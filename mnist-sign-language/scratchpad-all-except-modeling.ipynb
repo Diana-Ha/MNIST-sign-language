{
 "cells": [
  {
   "cell_type": "code",
   "execution_count": null,
   "metadata": {},
   "outputs": [],
   "source": [
    "# #add the following as the first line of every py script (include the '#')\n",
    "# #this will make it so that I dont have to type 'python' before running the script\n",
    "\n",
    "#!/Users/dianaha/anaconda3/bin/python"
   ]
  },
  {
   "cell_type": "code",
   "execution_count": 1,
   "metadata": {},
   "outputs": [
    {
     "name": "stderr",
     "output_type": "stream",
     "text": [
      "Using TensorFlow backend.\n"
     ]
    }
   ],
   "source": [
    "import numpy as np\n",
    "import pandas as pd\n",
    "import math\n",
    "from sklearn.model_selection import train_test_split\n",
    "\n",
    "from keras.models import load_model\n",
    "from keras import backend as K\n",
    "from keras import optimizers\n",
    "from keras import losses\n",
    "from keras.models import Sequential\n",
    "from keras.layers import Dense, Activation, Flatten\n",
    "from keras.utils import to_categorical\n",
    "from keras.layers import Dropout\n",
    "from keras.layers import Convolution2D, MaxPooling2D\n",
    "\n",
    "import tensorflow as tf\n",
    "\n",
    "import os\n",
    "from PIL import Image\n",
    "import cv2\n",
    "import h5py\n",
    "import glob"
   ]
  },
  {
   "cell_type": "code",
   "execution_count": 2,
   "metadata": {
    "collapsed": true
   },
   "outputs": [
    {
     "name": "stdout",
     "output_type": "stream",
     "text": [
      "^C\r\n",
      "Traceback (most recent call last):\r\n",
      "  File \"/Users/dianaha/anaconda3/bin/pip3\", line 7, in <module>\r\n",
      "    from pip._internal import main\r\n",
      "  File \"/Users/dianaha/anaconda3/lib/python3.6/site-packages/pip/_internal/__init__.py\", line 42, in <module>\r\n",
      "    from pip._internal import cmdoptions\r\n",
      "  File \"/Users/dianaha/anaconda3/lib/python3.6/site-packages/pip/_internal/cmdoptions.py\", line 16, in <module>\r\n",
      "    from pip._internal.index import (\r\n",
      "  File \"/Users/dianaha/anaconda3/lib/python3.6/site-packages/pip/_internal/index.py\", line 25, in <module>\r\n",
      "    from pip._internal.download import HAS_TLS, is_url, path_to_url, url_to_path\r\n",
      "  File \"/Users/dianaha/anaconda3/lib/python3.6/site-packages/pip/_internal/download.py\", line 40, in <module>\r\n",
      "    from pip._internal.utils.logging import indent_log\r\n",
      "  File \"/Users/dianaha/anaconda3/lib/python3.6/site-packages/pip/_internal/utils/logging.py\", line 9, in <module>\r\n",
      "    from pip._internal.utils.misc import ensure_dir\r\n",
      "  File \"/Users/dianaha/anaconda3/lib/python3.6/site-packages/pip/_internal/utils/misc.py\", line 21, in <module>\r\n",
      "    from pip._vendor import pkg_resources\r\n",
      "  File \"/Users/dianaha/anaconda3/lib/python3.6/site-packages/pip/_vendor/pkg_resources/__init__.py\", line 3088, in <module>\r\n",
      "    @_call_aside\r\n",
      "  File \"/Users/dianaha/anaconda3/lib/python3.6/site-packages/pip/_vendor/pkg_resources/__init__.py\", line 3072, in _call_aside\r\n",
      "    f(*args, **kwargs)\r\n",
      "  File \"/Users/dianaha/anaconda3/lib/python3.6/site-packages/pip/_vendor/pkg_resources/__init__.py\", line 3101, in _initialize_master_working_set\r\n",
      "    working_set = WorkingSet._build_master()\r\n",
      "  File \"/Users/dianaha/anaconda3/lib/python3.6/site-packages/pip/_vendor/pkg_resources/__init__.py\", line 565, in _build_master\r\n",
      "    ws = cls()\r\n",
      "  File \"/Users/dianaha/anaconda3/lib/python3.6/site-packages/pip/_vendor/pkg_resources/__init__.py\", line 558, in __init__\r\n",
      "    self.add_entry(entry)\r\n",
      "  File \"/Users/dianaha/anaconda3/lib/python3.6/site-packages/pip/_vendor/pkg_resources/__init__.py\", line 614, in add_entry\r\n",
      "    for dist in find_distributions(entry, True):\r\n",
      "  File \"/Users/dianaha/anaconda3/lib/python3.6/site-packages/pip/_vendor/pkg_resources/__init__.py\", line 1964, in find_on_path\r\n",
      "    for dist in factory(fullpath):\r\n",
      "  File \"/Users/dianaha/anaconda3/lib/python3.6/site-packages/pip/_vendor/pkg_resources/__init__.py\", line 2034, in distributions_from_metadata\r\n",
      "    root, entry, metadata, precedence=DEVELOP_DIST,\r\n",
      "  File \"/Users/dianaha/anaconda3/lib/python3.6/site-packages/pip/_vendor/pkg_resources/__init__.py\", line 2473, in from_location\r\n",
      "    py_version=py_version, platform=platform, **kw\r\n",
      "  File \"/Users/dianaha/anaconda3/lib/python3.6/site-packages/pip/_vendor/pkg_resources/__init__.py\", line 2835, in _reload_version\r\n",
      "    md_version = _version_from_file(self._get_metadata(self.PKG_INFO))\r\n",
      "  File \"/Users/dianaha/anaconda3/lib/python3.6/site-packages/pip/_vendor/pkg_resources/__init__.py\", line 2437, in _version_from_file\r\n",
      "    line = next(iter(version_lines), '')\r\n",
      "  File \"/Users/dianaha/anaconda3/lib/python3.6/site-packages/pip/_vendor/pkg_resources/__init__.py\", line 2627, in _get_metadata\r\n",
      "    for line in self.get_metadata_lines(name):\r\n",
      "  File \"/Users/dianaha/anaconda3/lib/python3.6/site-packages/pip/_vendor/pkg_resources/__init__.py\", line 1408, in get_metadata_lines\r\n",
      "    return yield_lines(self.get_metadata(name))\r\n",
      "  File \"/Users/dianaha/anaconda3/lib/python3.6/site-packages/pip/_vendor/pkg_resources/__init__.py\", line 1404, in get_metadata\r\n",
      "    value = self._get(self._fn(self.egg_info, name))\r\n",
      "  File \"/Users/dianaha/anaconda3/lib/python3.6/site-packages/pip/_vendor/pkg_resources/__init__.py\", line 1517, in _get\r\n",
      "    return stream.read()\r\n",
      "KeyboardInterrupt\r\n"
     ]
    }
   ],
   "source": [
    "# !pip3 install --upgrade \"https://storage.googleapis.com/tensorflow/mac/cpu/tensorflow-1.9.0-py3-none-any.whl\""
   ]
  },
  {
   "cell_type": "markdown",
   "metadata": {},
   "source": [
    "# Prep train and test data for modeling"
   ]
  },
  {
   "cell_type": "code",
   "execution_count": 2,
   "metadata": {},
   "outputs": [],
   "source": [
    "train = pd.read_csv('./sign-language-mnist/sign_mnist_train.csv')\n",
    "\n",
    "test = pd.read_csv('./sign-language-mnist/sign_mnist_test.csv')"
   ]
  },
  {
   "cell_type": "code",
   "execution_count": 3,
   "metadata": {},
   "outputs": [],
   "source": [
    "X = train.drop(['label'], axis=1).values\n",
    "y = train['label'].values\n",
    "\n",
    "testset_X = test.drop(['label'], axis=1).values\n",
    "testset_y = test['label'].values"
   ]
  },
  {
   "cell_type": "code",
   "execution_count": 4,
   "metadata": {},
   "outputs": [],
   "source": [
    "# change shape of data\n",
    "X = X.reshape(X.shape[0], 28, 28, 1)\n",
    "\n",
    "testset_X = testset_X.reshape(testset_X.shape[0], 28, 28, 1)"
   ]
  },
  {
   "cell_type": "code",
   "execution_count": 5,
   "metadata": {},
   "outputs": [],
   "source": [
    "# change the data from integer to float\n",
    "X = X.astype('float32')\n",
    "\n",
    "testset_X = testset_X.astype('float32')"
   ]
  },
  {
   "cell_type": "code",
   "execution_count": 6,
   "metadata": {},
   "outputs": [],
   "source": [
    "# scale data\n",
    "X /= 255\n",
    "\n",
    "testset_X /= 255"
   ]
  },
  {
   "cell_type": "code",
   "execution_count": 7,
   "metadata": {},
   "outputs": [],
   "source": [
    "# one hot encode our y variables of our data\n",
    "y = to_categorical(y)\n",
    "\n",
    "testset_y = to_categorical(testset_y)"
   ]
  },
  {
   "cell_type": "code",
   "execution_count": 8,
   "metadata": {},
   "outputs": [],
   "source": [
    "X_train, X_test, y_train, y_test = train_test_split(X, y, random_state=42, stratify=y)"
   ]
  },
  {
   "cell_type": "markdown",
   "metadata": {},
   "source": [
    "# Prep image for prediction (see below for df input)"
   ]
  },
  {
   "cell_type": "code",
   "execution_count": 11,
   "metadata": {},
   "outputs": [],
   "source": [
    "img = cv2.imread(\"flip_color_0_0040.jpg\", 0)\n",
    "re = cv2.resize(img, (28, 28))\n",
    "arr = np.asarray(re).ravel()"
   ]
  },
  {
   "cell_type": "code",
   "execution_count": 12,
   "metadata": {},
   "outputs": [],
   "source": [
    "img_df = pd.DataFrame([arr])"
   ]
  },
  {
   "cell_type": "code",
   "execution_count": 13,
   "metadata": {},
   "outputs": [
    {
     "data": {
      "text/html": [
       "<div>\n",
       "<style scoped>\n",
       "    .dataframe tbody tr th:only-of-type {\n",
       "        vertical-align: middle;\n",
       "    }\n",
       "\n",
       "    .dataframe tbody tr th {\n",
       "        vertical-align: top;\n",
       "    }\n",
       "\n",
       "    .dataframe thead th {\n",
       "        text-align: right;\n",
       "    }\n",
       "</style>\n",
       "<table border=\"1\" class=\"dataframe\">\n",
       "  <thead>\n",
       "    <tr style=\"text-align: right;\">\n",
       "      <th></th>\n",
       "      <th>0</th>\n",
       "      <th>1</th>\n",
       "      <th>2</th>\n",
       "      <th>3</th>\n",
       "      <th>4</th>\n",
       "      <th>5</th>\n",
       "      <th>6</th>\n",
       "      <th>7</th>\n",
       "      <th>8</th>\n",
       "      <th>9</th>\n",
       "      <th>...</th>\n",
       "      <th>774</th>\n",
       "      <th>775</th>\n",
       "      <th>776</th>\n",
       "      <th>777</th>\n",
       "      <th>778</th>\n",
       "      <th>779</th>\n",
       "      <th>780</th>\n",
       "      <th>781</th>\n",
       "      <th>782</th>\n",
       "      <th>783</th>\n",
       "    </tr>\n",
       "  </thead>\n",
       "  <tbody>\n",
       "    <tr>\n",
       "      <th>0</th>\n",
       "      <td>42</td>\n",
       "      <td>48</td>\n",
       "      <td>43</td>\n",
       "      <td>44</td>\n",
       "      <td>45</td>\n",
       "      <td>37</td>\n",
       "      <td>32</td>\n",
       "      <td>38</td>\n",
       "      <td>39</td>\n",
       "      <td>36</td>\n",
       "      <td>...</td>\n",
       "      <td>91</td>\n",
       "      <td>92</td>\n",
       "      <td>80</td>\n",
       "      <td>20</td>\n",
       "      <td>144</td>\n",
       "      <td>230</td>\n",
       "      <td>243</td>\n",
       "      <td>218</td>\n",
       "      <td>225</td>\n",
       "      <td>223</td>\n",
       "    </tr>\n",
       "  </tbody>\n",
       "</table>\n",
       "<p>1 rows × 784 columns</p>\n",
       "</div>"
      ],
      "text/plain": [
       "   0    1    2    3    4    5    6    7    8    9   ...   774  775  776  777  \\\n",
       "0   42   48   43   44   45   37   32   38   39   36 ...    91   92   80   20   \n",
       "\n",
       "   778  779  780  781  782  783  \n",
       "0  144  230  243  218  225  223  \n",
       "\n",
       "[1 rows x 784 columns]"
      ]
     },
     "execution_count": 13,
     "metadata": {},
     "output_type": "execute_result"
    }
   ],
   "source": [
    "img_df"
   ]
  },
  {
   "cell_type": "code",
   "execution_count": 14,
   "metadata": {},
   "outputs": [],
   "source": [
    "img2 = cv2.imread(\"b.jpg\", 0)\n",
    "re2 = cv2.resize(img2, (28, 28))\n",
    "arr2 = np.asarray(re2).ravel()\n",
    "img_df = img_df.append([arr2], ignore_index=True)"
   ]
  },
  {
   "cell_type": "code",
   "execution_count": 15,
   "metadata": {},
   "outputs": [
    {
     "data": {
      "text/html": [
       "<div>\n",
       "<style scoped>\n",
       "    .dataframe tbody tr th:only-of-type {\n",
       "        vertical-align: middle;\n",
       "    }\n",
       "\n",
       "    .dataframe tbody tr th {\n",
       "        vertical-align: top;\n",
       "    }\n",
       "\n",
       "    .dataframe thead th {\n",
       "        text-align: right;\n",
       "    }\n",
       "</style>\n",
       "<table border=\"1\" class=\"dataframe\">\n",
       "  <thead>\n",
       "    <tr style=\"text-align: right;\">\n",
       "      <th></th>\n",
       "      <th>0</th>\n",
       "      <th>1</th>\n",
       "      <th>2</th>\n",
       "      <th>3</th>\n",
       "      <th>4</th>\n",
       "      <th>5</th>\n",
       "      <th>6</th>\n",
       "      <th>7</th>\n",
       "      <th>8</th>\n",
       "      <th>9</th>\n",
       "      <th>...</th>\n",
       "      <th>774</th>\n",
       "      <th>775</th>\n",
       "      <th>776</th>\n",
       "      <th>777</th>\n",
       "      <th>778</th>\n",
       "      <th>779</th>\n",
       "      <th>780</th>\n",
       "      <th>781</th>\n",
       "      <th>782</th>\n",
       "      <th>783</th>\n",
       "    </tr>\n",
       "  </thead>\n",
       "  <tbody>\n",
       "    <tr>\n",
       "      <th>0</th>\n",
       "      <td>42</td>\n",
       "      <td>48</td>\n",
       "      <td>43</td>\n",
       "      <td>44</td>\n",
       "      <td>45</td>\n",
       "      <td>37</td>\n",
       "      <td>32</td>\n",
       "      <td>38</td>\n",
       "      <td>39</td>\n",
       "      <td>36</td>\n",
       "      <td>...</td>\n",
       "      <td>91</td>\n",
       "      <td>92</td>\n",
       "      <td>80</td>\n",
       "      <td>20</td>\n",
       "      <td>144</td>\n",
       "      <td>230</td>\n",
       "      <td>243</td>\n",
       "      <td>218</td>\n",
       "      <td>225</td>\n",
       "      <td>223</td>\n",
       "    </tr>\n",
       "    <tr>\n",
       "      <th>1</th>\n",
       "      <td>198</td>\n",
       "      <td>197</td>\n",
       "      <td>198</td>\n",
       "      <td>198</td>\n",
       "      <td>199</td>\n",
       "      <td>200</td>\n",
       "      <td>200</td>\n",
       "      <td>200</td>\n",
       "      <td>201</td>\n",
       "      <td>200</td>\n",
       "      <td>...</td>\n",
       "      <td>54</td>\n",
       "      <td>51</td>\n",
       "      <td>54</td>\n",
       "      <td>52</td>\n",
       "      <td>49</td>\n",
       "      <td>43</td>\n",
       "      <td>105</td>\n",
       "      <td>75</td>\n",
       "      <td>64</td>\n",
       "      <td>68</td>\n",
       "    </tr>\n",
       "  </tbody>\n",
       "</table>\n",
       "<p>2 rows × 784 columns</p>\n",
       "</div>"
      ],
      "text/plain": [
       "   0    1    2    3    4    5    6    7    8    9   ...   774  775  776  777  \\\n",
       "0   42   48   43   44   45   37   32   38   39   36 ...    91   92   80   20   \n",
       "1  198  197  198  198  199  200  200  200  201  200 ...    54   51   54   52   \n",
       "\n",
       "   778  779  780  781  782  783  \n",
       "0  144  230  243  218  225  223  \n",
       "1   49   43  105   75   64   68  \n",
       "\n",
       "[2 rows x 784 columns]"
      ]
     },
     "execution_count": 15,
     "metadata": {},
     "output_type": "execute_result"
    }
   ],
   "source": [
    "img_df"
   ]
  },
  {
   "cell_type": "code",
   "execution_count": 16,
   "metadata": {},
   "outputs": [],
   "source": [
    "img_df = img_df.values.reshape(img_df.shape[0], 28, 28, 1)"
   ]
  },
  {
   "cell_type": "code",
   "execution_count": 17,
   "metadata": {},
   "outputs": [],
   "source": [
    "img_df = img_df.astype('float32')"
   ]
  },
  {
   "cell_type": "code",
   "execution_count": 18,
   "metadata": {},
   "outputs": [],
   "source": [
    "img_df /= 255"
   ]
  },
  {
   "cell_type": "markdown",
   "metadata": {},
   "source": [
    "# Prep df for predictions (done on sample data)"
   ]
  },
  {
   "cell_type": "code",
   "execution_count": 8,
   "metadata": {},
   "outputs": [],
   "source": [
    "images = glob.glob(\"./my_test/*.jpg\", recursive=True)"
   ]
  },
  {
   "cell_type": "code",
   "execution_count": 9,
   "metadata": {},
   "outputs": [
    {
     "data": {
      "text/plain": [
       "['./my_test/h.jpg',\n",
       " './my_test/bh.jpg',\n",
       " './my_test/as.jpg',\n",
       " './my_test/ch.jpg',\n",
       " './my_test/l.jpg',\n",
       " './my_test/oh.jpg',\n",
       " './my_test/ls.jpg',\n",
       " './my_test/o.jpg',\n",
       " './my_test/eh.jpg',\n",
       " './my_test/hs.jpg',\n",
       " './my_test/c.jpg',\n",
       " './my_test/a.jpg',\n",
       " './my_test/bd.jpg',\n",
       " './my_test/e.jpg']"
      ]
     },
     "execution_count": 9,
     "metadata": {},
     "output_type": "execute_result"
    }
   ],
   "source": [
    "images"
   ]
  },
  {
   "cell_type": "code",
   "execution_count": 10,
   "metadata": {},
   "outputs": [],
   "source": [
    "# create empty df and list for labels\n",
    "pixel_df = pd.DataFrame()\n"
   ]
  },
  {
   "cell_type": "code",
   "execution_count": 11,
   "metadata": {},
   "outputs": [],
   "source": [
    "# add images as arrays to train_df\n",
    "start = 0\n",
    "\n",
    "for i in images:\n",
    "#     img = Image.open(i)\n",
    "#     arr = np.asarray(img).ravel()\n",
    "#     pixel_df.loc[start] = arr\n",
    "#     start += 1   \n",
    "    img = cv2.imread(i, 0)\n",
    "    re = cv2.resize(img, (28, 28))\n",
    "    arr = np.asarray(re).ravel()\n",
    "    pixel_df = pixel_df.append([arr], ignore_index=True)"
   ]
  },
  {
   "cell_type": "code",
   "execution_count": 12,
   "metadata": {},
   "outputs": [],
   "source": [
    "pixel_df = pixel_df.values.reshape(pixel_df.shape[0], 28, 28, 1)\n",
    "pixel_df = pixel_df.astype('float32')\n",
    "pixel_df /= 255"
   ]
  },
  {
   "cell_type": "code",
   "execution_count": 13,
   "metadata": {},
   "outputs": [
    {
     "data": {
      "text/plain": [
       "(14, 28, 28, 1)"
      ]
     },
     "execution_count": 13,
     "metadata": {},
     "output_type": "execute_result"
    }
   ],
   "source": [
    "pixel_df.shape"
   ]
  },
  {
   "cell_type": "code",
   "execution_count": 16,
   "metadata": {},
   "outputs": [],
   "source": [
    "# # save df\n",
    "# pixel_df.to_csv(\"pixel_df.csv\", index=False)"
   ]
  },
  {
   "cell_type": "markdown",
   "metadata": {},
   "source": [
    "# Model"
   ]
  },
  {
   "cell_type": "code",
   "execution_count": 9,
   "metadata": {},
   "outputs": [
    {
     "name": "stdout",
     "output_type": "stream",
     "text": [
      "Predicted Class:  [ 6  5 10 ...  2  4  2]\n",
      "CPU times: user 15min 55s, sys: 2min 3s, total: 17min 59s\n",
      "Wall time: 5min 30s\n"
     ]
    }
   ],
   "source": [
    "%%time\n",
    "model = Sequential()\n",
    "model.add(Convolution2D(filters =32,\n",
    "                       kernel_size=5,\n",
    "                       activation='relu',\n",
    "                       input_shape = (28,28,1)))\n",
    "model.add(MaxPooling2D(pool_size=(2,2),\n",
    "                         strides=2,\n",
    "                        padding='same'))\n",
    "model.add(Dropout(0.3))\n",
    "\n",
    "model.add(Convolution2D(filters=64,\n",
    "                      kernel_size=5,\n",
    "                      activation='relu'))\n",
    "model.add(MaxPooling2D(pool_size=(2,2),\n",
    "                        strides=2,\n",
    "                        padding='same'))\n",
    "model.add(Dropout(0.3))\n",
    "\n",
    "model.add(Flatten())\n",
    "model.add(Dense(128, activation='relu'))\n",
    "model.add(Dropout(0.4))\n",
    "model.add(Dense(60, activation='relu'))\n",
    "model.add(Dense(25, activation='softmax'))\n",
    "\n",
    "model.compile(loss='categorical_crossentropy', optimizer='adam', metrics=['accuracy'])\n",
    "                               \n",
    "model.fit(X_train, y_train, epochs=20, batch_size=1000, verbose=0, validation_data=(X_test, y_test))\n",
    "\n",
    "# score = model.evaluate(testset_X, testset_y, verbose=0)\n",
    "\n",
    "# pred_proba = model.predict(img_df)\n",
    "# pred_class = model.predict_classes(pixel_df)\n",
    "pred_class = model.predict_classes(testset_X)\n",
    "\n",
    "\n",
    "# model.save(\"model3.h5\")\n",
    "\n",
    "# print('test loss: ', score[0])\n",
    "# print('test accuracy: ', score[1])\n",
    "# print('Predicted Probability: ', pred_proba)\n",
    "print('Predicted Class: ', pred_class)\n",
    "\n",
    "# model3 acc: 94.7%, loss: 15.4%"
   ]
  },
  {
   "cell_type": "markdown",
   "metadata": {},
   "source": [
    "# Reading in model1 and making predictions"
   ]
  },
  {
   "cell_type": "code",
   "execution_count": 1,
   "metadata": {
    "collapsed": true
   },
   "outputs": [
    {
     "ename": "NameError",
     "evalue": "name 'load_model' is not defined",
     "output_type": "error",
     "traceback": [
      "\u001b[0;31m---------------------------------------------------------------------------\u001b[0m",
      "\u001b[0;31mNameError\u001b[0m                                 Traceback (most recent call last)",
      "\u001b[0;32m<ipython-input-1-b513824719f8>\u001b[0m in \u001b[0;36m<module>\u001b[0;34m()\u001b[0m\n\u001b[0;32m----> 1\u001b[0;31m \u001b[0mmodel1\u001b[0m \u001b[0;34m=\u001b[0m \u001b[0mload_model\u001b[0m\u001b[0;34m(\u001b[0m\u001b[0;34m\"model1.h5\"\u001b[0m\u001b[0;34m)\u001b[0m\u001b[0;34m\u001b[0m\u001b[0m\n\u001b[0m",
      "\u001b[0;31mNameError\u001b[0m: name 'load_model' is not defined"
     ]
    }
   ],
   "source": [
    "model1 = load_model(\"model1.h5\")"
   ]
  },
  {
   "cell_type": "code",
   "execution_count": null,
   "metadata": {},
   "outputs": [],
   "source": [
    "%%time\n",
    "score1 = model1.evaluate(testset_X, testset_y, verbose=0)\n",
    "print('test loss: ', score1[0])\n",
    "print('test accuracy: ', score1[1])"
   ]
  },
  {
   "cell_type": "code",
   "execution_count": null,
   "metadata": {},
   "outputs": [],
   "source": [
    "%%time\n",
    "preds1 = model1.predict_classes(pixel_df)"
   ]
  },
  {
   "cell_type": "code",
   "execution_count": null,
   "metadata": {},
   "outputs": [],
   "source": [
    "preds1"
   ]
  },
  {
   "cell_type": "markdown",
   "metadata": {},
   "source": [
    "# Look at what is being misclassified\n",
    "### NOTE: Focus on Model 1 as it performed the best"
   ]
  },
  {
   "cell_type": "code",
   "execution_count": 21,
   "metadata": {},
   "outputs": [
    {
     "data": {
      "text/html": [
       "<div>\n",
       "<style scoped>\n",
       "    .dataframe tbody tr th:only-of-type {\n",
       "        vertical-align: middle;\n",
       "    }\n",
       "\n",
       "    .dataframe tbody tr th {\n",
       "        vertical-align: top;\n",
       "    }\n",
       "\n",
       "    .dataframe thead th {\n",
       "        text-align: right;\n",
       "    }\n",
       "</style>\n",
       "<table border=\"1\" class=\"dataframe\">\n",
       "  <thead>\n",
       "    <tr style=\"text-align: right;\">\n",
       "      <th></th>\n",
       "    </tr>\n",
       "  </thead>\n",
       "  <tbody>\n",
       "  </tbody>\n",
       "</table>\n",
       "</div>"
      ],
      "text/plain": [
       "Empty DataFrame\n",
       "Columns: []\n",
       "Index: []"
      ]
     },
     "execution_count": 21,
     "metadata": {},
     "output_type": "execute_result"
    }
   ],
   "source": [
    "review = pd.DataFrame()\n",
    "review"
   ]
  },
  {
   "cell_type": "code",
   "execution_count": 23,
   "metadata": {
    "collapsed": true
   },
   "outputs": [
    {
     "data": {
      "text/html": [
       "<div>\n",
       "<style scoped>\n",
       "    .dataframe tbody tr th:only-of-type {\n",
       "        vertical-align: middle;\n",
       "    }\n",
       "\n",
       "    .dataframe tbody tr th {\n",
       "        vertical-align: top;\n",
       "    }\n",
       "\n",
       "    .dataframe thead th {\n",
       "        text-align: right;\n",
       "    }\n",
       "</style>\n",
       "<table border=\"1\" class=\"dataframe\">\n",
       "  <thead>\n",
       "    <tr style=\"text-align: right;\">\n",
       "      <th></th>\n",
       "      <th>actual</th>\n",
       "      <th>predicted</th>\n",
       "    </tr>\n",
       "  </thead>\n",
       "  <tbody>\n",
       "    <tr>\n",
       "      <th>0</th>\n",
       "      <td>6</td>\n",
       "      <td>6</td>\n",
       "    </tr>\n",
       "    <tr>\n",
       "      <th>1</th>\n",
       "      <td>5</td>\n",
       "      <td>5</td>\n",
       "    </tr>\n",
       "    <tr>\n",
       "      <th>2</th>\n",
       "      <td>10</td>\n",
       "      <td>10</td>\n",
       "    </tr>\n",
       "    <tr>\n",
       "      <th>3</th>\n",
       "      <td>0</td>\n",
       "      <td>0</td>\n",
       "    </tr>\n",
       "    <tr>\n",
       "      <th>4</th>\n",
       "      <td>3</td>\n",
       "      <td>3</td>\n",
       "    </tr>\n",
       "    <tr>\n",
       "      <th>5</th>\n",
       "      <td>21</td>\n",
       "      <td>21</td>\n",
       "    </tr>\n",
       "    <tr>\n",
       "      <th>6</th>\n",
       "      <td>10</td>\n",
       "      <td>10</td>\n",
       "    </tr>\n",
       "    <tr>\n",
       "      <th>7</th>\n",
       "      <td>14</td>\n",
       "      <td>14</td>\n",
       "    </tr>\n",
       "    <tr>\n",
       "      <th>8</th>\n",
       "      <td>3</td>\n",
       "      <td>3</td>\n",
       "    </tr>\n",
       "    <tr>\n",
       "      <th>9</th>\n",
       "      <td>7</td>\n",
       "      <td>7</td>\n",
       "    </tr>\n",
       "    <tr>\n",
       "      <th>10</th>\n",
       "      <td>8</td>\n",
       "      <td>8</td>\n",
       "    </tr>\n",
       "    <tr>\n",
       "      <th>11</th>\n",
       "      <td>8</td>\n",
       "      <td>8</td>\n",
       "    </tr>\n",
       "    <tr>\n",
       "      <th>12</th>\n",
       "      <td>21</td>\n",
       "      <td>21</td>\n",
       "    </tr>\n",
       "    <tr>\n",
       "      <th>13</th>\n",
       "      <td>12</td>\n",
       "      <td>12</td>\n",
       "    </tr>\n",
       "    <tr>\n",
       "      <th>14</th>\n",
       "      <td>7</td>\n",
       "      <td>7</td>\n",
       "    </tr>\n",
       "    <tr>\n",
       "      <th>15</th>\n",
       "      <td>4</td>\n",
       "      <td>4</td>\n",
       "    </tr>\n",
       "    <tr>\n",
       "      <th>16</th>\n",
       "      <td>22</td>\n",
       "      <td>22</td>\n",
       "    </tr>\n",
       "    <tr>\n",
       "      <th>17</th>\n",
       "      <td>0</td>\n",
       "      <td>0</td>\n",
       "    </tr>\n",
       "    <tr>\n",
       "      <th>18</th>\n",
       "      <td>7</td>\n",
       "      <td>7</td>\n",
       "    </tr>\n",
       "    <tr>\n",
       "      <th>19</th>\n",
       "      <td>7</td>\n",
       "      <td>7</td>\n",
       "    </tr>\n",
       "    <tr>\n",
       "      <th>20</th>\n",
       "      <td>2</td>\n",
       "      <td>2</td>\n",
       "    </tr>\n",
       "    <tr>\n",
       "      <th>21</th>\n",
       "      <td>0</td>\n",
       "      <td>0</td>\n",
       "    </tr>\n",
       "    <tr>\n",
       "      <th>22</th>\n",
       "      <td>21</td>\n",
       "      <td>21</td>\n",
       "    </tr>\n",
       "    <tr>\n",
       "      <th>23</th>\n",
       "      <td>4</td>\n",
       "      <td>4</td>\n",
       "    </tr>\n",
       "    <tr>\n",
       "      <th>24</th>\n",
       "      <td>10</td>\n",
       "      <td>10</td>\n",
       "    </tr>\n",
       "    <tr>\n",
       "      <th>25</th>\n",
       "      <td>15</td>\n",
       "      <td>15</td>\n",
       "    </tr>\n",
       "    <tr>\n",
       "      <th>26</th>\n",
       "      <td>2</td>\n",
       "      <td>2</td>\n",
       "    </tr>\n",
       "    <tr>\n",
       "      <th>27</th>\n",
       "      <td>15</td>\n",
       "      <td>15</td>\n",
       "    </tr>\n",
       "    <tr>\n",
       "      <th>28</th>\n",
       "      <td>7</td>\n",
       "      <td>7</td>\n",
       "    </tr>\n",
       "    <tr>\n",
       "      <th>29</th>\n",
       "      <td>1</td>\n",
       "      <td>1</td>\n",
       "    </tr>\n",
       "    <tr>\n",
       "      <th>...</th>\n",
       "      <td>...</td>\n",
       "      <td>...</td>\n",
       "    </tr>\n",
       "    <tr>\n",
       "      <th>7142</th>\n",
       "      <td>0</td>\n",
       "      <td>0</td>\n",
       "    </tr>\n",
       "    <tr>\n",
       "      <th>7143</th>\n",
       "      <td>14</td>\n",
       "      <td>14</td>\n",
       "    </tr>\n",
       "    <tr>\n",
       "      <th>7144</th>\n",
       "      <td>12</td>\n",
       "      <td>12</td>\n",
       "    </tr>\n",
       "    <tr>\n",
       "      <th>7145</th>\n",
       "      <td>4</td>\n",
       "      <td>4</td>\n",
       "    </tr>\n",
       "    <tr>\n",
       "      <th>7146</th>\n",
       "      <td>18</td>\n",
       "      <td>12</td>\n",
       "    </tr>\n",
       "    <tr>\n",
       "      <th>7147</th>\n",
       "      <td>16</td>\n",
       "      <td>16</td>\n",
       "    </tr>\n",
       "    <tr>\n",
       "      <th>7148</th>\n",
       "      <td>7</td>\n",
       "      <td>7</td>\n",
       "    </tr>\n",
       "    <tr>\n",
       "      <th>7149</th>\n",
       "      <td>3</td>\n",
       "      <td>0</td>\n",
       "    </tr>\n",
       "    <tr>\n",
       "      <th>7150</th>\n",
       "      <td>15</td>\n",
       "      <td>15</td>\n",
       "    </tr>\n",
       "    <tr>\n",
       "      <th>7151</th>\n",
       "      <td>19</td>\n",
       "      <td>19</td>\n",
       "    </tr>\n",
       "    <tr>\n",
       "      <th>7152</th>\n",
       "      <td>1</td>\n",
       "      <td>1</td>\n",
       "    </tr>\n",
       "    <tr>\n",
       "      <th>7153</th>\n",
       "      <td>12</td>\n",
       "      <td>12</td>\n",
       "    </tr>\n",
       "    <tr>\n",
       "      <th>7154</th>\n",
       "      <td>8</td>\n",
       "      <td>8</td>\n",
       "    </tr>\n",
       "    <tr>\n",
       "      <th>7155</th>\n",
       "      <td>23</td>\n",
       "      <td>23</td>\n",
       "    </tr>\n",
       "    <tr>\n",
       "      <th>7156</th>\n",
       "      <td>19</td>\n",
       "      <td>19</td>\n",
       "    </tr>\n",
       "    <tr>\n",
       "      <th>7157</th>\n",
       "      <td>7</td>\n",
       "      <td>7</td>\n",
       "    </tr>\n",
       "    <tr>\n",
       "      <th>7158</th>\n",
       "      <td>12</td>\n",
       "      <td>12</td>\n",
       "    </tr>\n",
       "    <tr>\n",
       "      <th>7159</th>\n",
       "      <td>3</td>\n",
       "      <td>3</td>\n",
       "    </tr>\n",
       "    <tr>\n",
       "      <th>7160</th>\n",
       "      <td>19</td>\n",
       "      <td>19</td>\n",
       "    </tr>\n",
       "    <tr>\n",
       "      <th>7161</th>\n",
       "      <td>24</td>\n",
       "      <td>24</td>\n",
       "    </tr>\n",
       "    <tr>\n",
       "      <th>7162</th>\n",
       "      <td>10</td>\n",
       "      <td>24</td>\n",
       "    </tr>\n",
       "    <tr>\n",
       "      <th>7163</th>\n",
       "      <td>4</td>\n",
       "      <td>4</td>\n",
       "    </tr>\n",
       "    <tr>\n",
       "      <th>7164</th>\n",
       "      <td>14</td>\n",
       "      <td>14</td>\n",
       "    </tr>\n",
       "    <tr>\n",
       "      <th>7165</th>\n",
       "      <td>8</td>\n",
       "      <td>8</td>\n",
       "    </tr>\n",
       "    <tr>\n",
       "      <th>7166</th>\n",
       "      <td>12</td>\n",
       "      <td>12</td>\n",
       "    </tr>\n",
       "    <tr>\n",
       "      <th>7167</th>\n",
       "      <td>1</td>\n",
       "      <td>1</td>\n",
       "    </tr>\n",
       "    <tr>\n",
       "      <th>7168</th>\n",
       "      <td>12</td>\n",
       "      <td>12</td>\n",
       "    </tr>\n",
       "    <tr>\n",
       "      <th>7169</th>\n",
       "      <td>2</td>\n",
       "      <td>2</td>\n",
       "    </tr>\n",
       "    <tr>\n",
       "      <th>7170</th>\n",
       "      <td>4</td>\n",
       "      <td>4</td>\n",
       "    </tr>\n",
       "    <tr>\n",
       "      <th>7171</th>\n",
       "      <td>2</td>\n",
       "      <td>2</td>\n",
       "    </tr>\n",
       "  </tbody>\n",
       "</table>\n",
       "<p>7172 rows × 2 columns</p>\n",
       "</div>"
      ],
      "text/plain": [
       "      actual  predicted\n",
       "0          6          6\n",
       "1          5          5\n",
       "2         10         10\n",
       "3          0          0\n",
       "4          3          3\n",
       "5         21         21\n",
       "6         10         10\n",
       "7         14         14\n",
       "8          3          3\n",
       "9          7          7\n",
       "10         8          8\n",
       "11         8          8\n",
       "12        21         21\n",
       "13        12         12\n",
       "14         7          7\n",
       "15         4          4\n",
       "16        22         22\n",
       "17         0          0\n",
       "18         7          7\n",
       "19         7          7\n",
       "20         2          2\n",
       "21         0          0\n",
       "22        21         21\n",
       "23         4          4\n",
       "24        10         10\n",
       "25        15         15\n",
       "26         2          2\n",
       "27        15         15\n",
       "28         7          7\n",
       "29         1          1\n",
       "...      ...        ...\n",
       "7142       0          0\n",
       "7143      14         14\n",
       "7144      12         12\n",
       "7145       4          4\n",
       "7146      18         12\n",
       "7147      16         16\n",
       "7148       7          7\n",
       "7149       3          0\n",
       "7150      15         15\n",
       "7151      19         19\n",
       "7152       1          1\n",
       "7153      12         12\n",
       "7154       8          8\n",
       "7155      23         23\n",
       "7156      19         19\n",
       "7157       7          7\n",
       "7158      12         12\n",
       "7159       3          3\n",
       "7160      19         19\n",
       "7161      24         24\n",
       "7162      10         24\n",
       "7163       4          4\n",
       "7164      14         14\n",
       "7165       8          8\n",
       "7166      12         12\n",
       "7167       1          1\n",
       "7168      12         12\n",
       "7169       2          2\n",
       "7170       4          4\n",
       "7171       2          2\n",
       "\n",
       "[7172 rows x 2 columns]"
      ]
     },
     "execution_count": 23,
     "metadata": {},
     "output_type": "execute_result"
    }
   ],
   "source": [
    "review['actual'] = test['label']\n",
    "review['predicted'] = pred_class\n",
    "review"
   ]
  },
  {
   "cell_type": "code",
   "execution_count": 36,
   "metadata": {},
   "outputs": [],
   "source": [
    "missclass = review[review['actual'] != review['predicted']]"
   ]
  },
  {
   "cell_type": "code",
   "execution_count": 33,
   "metadata": {},
   "outputs": [
    {
     "data": {
      "text/plain": [
       "382"
      ]
     },
     "execution_count": 33,
     "metadata": {},
     "output_type": "execute_result"
    }
   ],
   "source": [
    "review['actual'][review['actual'] != review['predicted']].count()"
   ]
  },
  {
   "cell_type": "code",
   "execution_count": 52,
   "metadata": {},
   "outputs": [
    {
     "data": {
      "text/plain": [
       "15    3\n",
       "Name: predicted, dtype: int64"
      ]
     },
     "execution_count": 52,
     "metadata": {},
     "output_type": "execute_result"
    }
   ],
   "source": [
    "missclass['predicted'][missclass['actual'] ==24].value_counts()"
   ]
  },
  {
   "cell_type": "markdown",
   "metadata": {},
   "source": [
    "# Reading in model2 and making predictions"
   ]
  },
  {
   "cell_type": "code",
   "execution_count": 122,
   "metadata": {},
   "outputs": [],
   "source": [
    "model2 = load_model(\"model2.h5\")"
   ]
  },
  {
   "cell_type": "code",
   "execution_count": 123,
   "metadata": {},
   "outputs": [
    {
     "name": "stdout",
     "output_type": "stream",
     "text": [
      "test loss:  0.16777871462626345\n",
      "test accuracy:  0.9461795872838817\n",
      "CPU times: user 4.8 s, sys: 381 ms, total: 5.18 s\n",
      "Wall time: 2.39 s\n"
     ]
    }
   ],
   "source": [
    "%%time\n",
    "score2 = model2.evaluate(testset_X, testset_y, verbose=0)\n",
    "print('test loss: ', score2[0])\n",
    "print('test accuracy: ', score2[1])"
   ]
  },
  {
   "cell_type": "code",
   "execution_count": 124,
   "metadata": {},
   "outputs": [
    {
     "name": "stdout",
     "output_type": "stream",
     "text": [
      "CPU times: user 167 ms, sys: 4.72 ms, total: 172 ms\n",
      "Wall time: 164 ms\n"
     ]
    }
   ],
   "source": [
    "%%time\n",
    "preds2 = model2.predict_classes(pixel_df)"
   ]
  },
  {
   "cell_type": "code",
   "execution_count": 125,
   "metadata": {},
   "outputs": [
    {
     "data": {
      "text/plain": [
       "array([15,  5, 15,  6,  8,  7, 15,  7, 16,  7,  2, 15, 22, 15])"
      ]
     },
     "execution_count": 125,
     "metadata": {},
     "output_type": "execute_result"
    }
   ],
   "source": [
    "preds2"
   ]
  },
  {
   "cell_type": "markdown",
   "metadata": {},
   "source": [
    "# Reading in model3 and making predictions"
   ]
  },
  {
   "cell_type": "code",
   "execution_count": 126,
   "metadata": {},
   "outputs": [],
   "source": [
    "model3 = load_model(\"model3.h5\")"
   ]
  },
  {
   "cell_type": "code",
   "execution_count": 127,
   "metadata": {},
   "outputs": [
    {
     "name": "stdout",
     "output_type": "stream",
     "text": [
      "test loss:  0.1538031328006191\n",
      "test accuracy:  0.9471556051310652\n",
      "CPU times: user 4.99 s, sys: 262 ms, total: 5.25 s\n",
      "Wall time: 1.85 s\n"
     ]
    }
   ],
   "source": [
    "%%time\n",
    "score3 = model3.evaluate(testset_X, testset_y, verbose=0)\n",
    "print('test loss: ', score3[0])\n",
    "print('test accuracy: ', score3[1])"
   ]
  },
  {
   "cell_type": "code",
   "execution_count": 128,
   "metadata": {},
   "outputs": [
    {
     "name": "stdout",
     "output_type": "stream",
     "text": [
      "CPU times: user 187 ms, sys: 7.08 ms, total: 194 ms\n",
      "Wall time: 190 ms\n"
     ]
    }
   ],
   "source": [
    "%%time\n",
    "preds3 = model3.predict_classes(pixel_df)"
   ]
  },
  {
   "cell_type": "code",
   "execution_count": 129,
   "metadata": {},
   "outputs": [
    {
     "data": {
      "text/plain": [
       "array([15,  5, 10,  6,  8,  7, 15, 24, 16, 15,  2, 15, 10, 15])"
      ]
     },
     "execution_count": 129,
     "metadata": {},
     "output_type": "execute_result"
    }
   ],
   "source": [
    "preds3"
   ]
  },
  {
   "cell_type": "markdown",
   "metadata": {},
   "source": [
    "# Convert numerical predictions to string"
   ]
  },
  {
   "cell_type": "code",
   "execution_count": null,
   "metadata": {},
   "outputs": [],
   "source": [
    "letter_dict = {0:\"A\", 1:\"B\", 2:\"C\", 3:\"D\", 4:\"E\", 5:\"F\", \n",
    "               6:\"G\", 7:\"H\", 8:\"I\", 10:\"K\", 11:\"L\", 12:\"M\", \n",
    "               13:\"N\", 14:\"O\", 15:\"P\", 16:\"Q\", 17:\"R\", 18:\"S\",\n",
    "               19:\"T\", 20:\"U\", 21:\"V\", 22:\"W\", 23:\"X\", 24:\"Y\"}"
   ]
  },
  {
   "cell_type": "code",
   "execution_count": 29,
   "metadata": {},
   "outputs": [],
   "source": [
    "translation = \"\".join(list(map(lambda key: letter_dict[key], preds)))"
   ]
  },
  {
   "cell_type": "code",
   "execution_count": 31,
   "metadata": {},
   "outputs": [
    {
     "name": "stdout",
     "output_type": "stream",
     "text": [
      "PFKGIHPYQPCPKP\n"
     ]
    }
   ],
   "source": [
    "print(translation)"
   ]
  },
  {
   "cell_type": "markdown",
   "metadata": {},
   "source": [
    "# WAFFLES: Beginning to End"
   ]
  },
  {
   "cell_type": "code",
   "execution_count": 52,
   "metadata": {},
   "outputs": [],
   "source": [
    "from PIL import Image"
   ]
  },
  {
   "cell_type": "code",
   "execution_count": 73,
   "metadata": {},
   "outputs": [],
   "source": [
    "# create WAFFLES images for model input\n",
    "temp = testset_X[38]\n",
    "temp=np.reshape(temp,(28,28))\n",
    "temp=temp*255\n",
    "im = Image.fromarray(temp).convert(mode='L')\n",
    "# im.save(\"s.png\")"
   ]
  },
  {
   "cell_type": "markdown",
   "metadata": {},
   "source": [
    "**NOTE:**    \n",
    "Test images for WAFFLES were taken from ```testset_X[i]```, where ```i``` is item number:\n",
    "- 16 for W\n",
    "- 3 for A\n",
    "- 1 for F\n",
    "- 7140 for F\n",
    "- 459 for L\n",
    "- 15 for E\n",
    "- 38 for S"
   ]
  },
  {
   "cell_type": "code",
   "execution_count": 99,
   "metadata": {},
   "outputs": [
    {
     "data": {
      "text/plain": [
       "['./WAFFLES/1_w.png',\n",
       " './WAFFLES/2_a.png',\n",
       " './WAFFLES/3_f.png',\n",
       " './WAFFLES/4_ff.png',\n",
       " './WAFFLES/5_l.png',\n",
       " './WAFFLES/6_e.png',\n",
       " './WAFFLES/7_s.png']"
      ]
     },
     "execution_count": 99,
     "metadata": {},
     "output_type": "execute_result"
    }
   ],
   "source": [
    "# get file paths for each png image in the folder\n",
    "waffs_imgs = sorted(glob.glob(\"./WAFFLES/*.png\", recursive=True))\n",
    "# recursive=True tells it to go into the folder repeatedly to find each file\n",
    "# sorted(glob.glob('*.png')) <--sorts by filename\n",
    "# sorted(glob.glob('*.png'), key=os.path.getmtime) <--sorts by modification time\n",
    "# sorted(glob.glob('*.png'), key=os.path.getsize) <--sorts by size\n",
    "\n",
    "waffs_imgs"
   ]
  },
  {
   "cell_type": "code",
   "execution_count": 100,
   "metadata": {},
   "outputs": [],
   "source": [
    "# create empty df and list for labels\n",
    "waffs_df = pd.DataFrame()"
   ]
  },
  {
   "cell_type": "code",
   "execution_count": 101,
   "metadata": {},
   "outputs": [],
   "source": [
    "# add images as arrays to waffs_df\n",
    "start = 0\n",
    "\n",
    "for i in waffs_imgs:\n",
    "#     img = Image.open(i)\n",
    "#     arr = np.asarray(img).ravel()\n",
    "#     pixel_df.loc[start] = arr\n",
    "#     start += 1   \n",
    "    img = cv2.imread(i, 0)\n",
    "    re = cv2.resize(img, (28, 28))\n",
    "    arr = np.asarray(re).ravel()\n",
    "    waffs_df = waffs_df.append([arr], ignore_index=True)"
   ]
  },
  {
   "cell_type": "code",
   "execution_count": 102,
   "metadata": {},
   "outputs": [],
   "source": [
    "# format the data in order to load into the model\n",
    "waffs_df = waffs_df.values.reshape(waffs_df.shape[0], 28, 28, 1)\n",
    "waffs_df = waffs_df.astype('float32')\n",
    "waffs_df /= 255"
   ]
  },
  {
   "cell_type": "code",
   "execution_count": 103,
   "metadata": {},
   "outputs": [],
   "source": [
    "# load keras model\n",
    "model1 = load_model(\"model1.h5\")"
   ]
  },
  {
   "cell_type": "code",
   "execution_count": 104,
   "metadata": {},
   "outputs": [
    {
     "name": "stdout",
     "output_type": "stream",
     "text": [
      "CPU times: user 6.16 ms, sys: 1.62 ms, total: 7.78 ms\n",
      "Wall time: 5.14 ms\n"
     ]
    }
   ],
   "source": [
    "%%time\n",
    "# make predictions; ouput is a number\n",
    "waffs_preds = model.predict_classes(waffs_df)"
   ]
  },
  {
   "cell_type": "code",
   "execution_count": 105,
   "metadata": {},
   "outputs": [],
   "source": [
    "# dictionary used to convert numerical values to English alphabet\n",
    "letter_dict = {0:\"A\", 1:\"B\", 2:\"C\", 3:\"D\", 4:\"E\", 5:\"F\", \n",
    "               6:\"G\", 7:\"H\", 8:\"I\", 10:\"K\", 11:\"L\", 12:\"M\", \n",
    "               13:\"N\", 14:\"O\", 15:\"P\", 16:\"Q\", 17:\"R\", 18:\"S\",\n",
    "               19:\"T\", 20:\"U\", 21:\"V\", 22:\"W\", 23:\"X\", 24:\"Y\"}"
   ]
  },
  {
   "cell_type": "code",
   "execution_count": 108,
   "metadata": {},
   "outputs": [
    {
     "name": "stdout",
     "output_type": "stream",
     "text": [
      "WAFFLES\n"
     ]
    }
   ],
   "source": [
    "# change output from numbers to a single string of alphabets\n",
    "translation = \"\".join(list(map(lambda key: letter_dict[key], waffs_preds)))\n",
    "print(translation)"
   ]
  },
  {
   "cell_type": "code",
   "execution_count": 116,
   "metadata": {},
   "outputs": [],
   "source": [
    "# create function for cell above to return value when running python script\n",
    "def translate_num2let(waffs_preds):\n",
    "    translation = \"\".join(list(map(lambda key: letter_dict[key], waffs_preds)))\n",
    "    return translation"
   ]
  },
  {
   "cell_type": "code",
   "execution_count": 117,
   "metadata": {},
   "outputs": [
    {
     "data": {
      "text/plain": [
       "'WAFFLES'"
      ]
     },
     "execution_count": 117,
     "metadata": {},
     "output_type": "execute_result"
    }
   ],
   "source": [
    "translate_num2let(waffs_preds)"
   ]
  },
  {
   "cell_type": "markdown",
   "metadata": {},
   "source": [
    "# Input array, Output Image"
   ]
  },
  {
   "cell_type": "code",
   "execution_count": 82,
   "metadata": {
    "collapsed": true
   },
   "outputs": [
    {
     "ename": "TypeError",
     "evalue": "Cannot handle this data type",
     "output_type": "error",
     "traceback": [
      "\u001b[0;31m---------------------------------------------------------------------------\u001b[0m",
      "\u001b[0;31mKeyError\u001b[0m                                  Traceback (most recent call last)",
      "\u001b[0;32m~/anaconda3/lib/python3.6/site-packages/PIL/Image.py\u001b[0m in \u001b[0;36mfromarray\u001b[0;34m(obj, mode)\u001b[0m\n\u001b[1;32m   2427\u001b[0m             \u001b[0mtypekey\u001b[0m \u001b[0;34m=\u001b[0m \u001b[0;34m(\u001b[0m\u001b[0;36m1\u001b[0m\u001b[0;34m,\u001b[0m \u001b[0;36m1\u001b[0m\u001b[0;34m)\u001b[0m \u001b[0;34m+\u001b[0m \u001b[0mshape\u001b[0m\u001b[0;34m[\u001b[0m\u001b[0;36m2\u001b[0m\u001b[0;34m:\u001b[0m\u001b[0;34m]\u001b[0m\u001b[0;34m,\u001b[0m \u001b[0marr\u001b[0m\u001b[0;34m[\u001b[0m\u001b[0;34m'typestr'\u001b[0m\u001b[0;34m]\u001b[0m\u001b[0;34m\u001b[0m\u001b[0m\n\u001b[0;32m-> 2428\u001b[0;31m             \u001b[0mmode\u001b[0m\u001b[0;34m,\u001b[0m \u001b[0mrawmode\u001b[0m \u001b[0;34m=\u001b[0m \u001b[0m_fromarray_typemap\u001b[0m\u001b[0;34m[\u001b[0m\u001b[0mtypekey\u001b[0m\u001b[0;34m]\u001b[0m\u001b[0;34m\u001b[0m\u001b[0m\n\u001b[0m\u001b[1;32m   2429\u001b[0m         \u001b[0;32mexcept\u001b[0m \u001b[0mKeyError\u001b[0m\u001b[0;34m:\u001b[0m\u001b[0;34m\u001b[0m\u001b[0m\n",
      "\u001b[0;31mKeyError\u001b[0m: ((1, 1), '<i8')",
      "\nDuring handling of the above exception, another exception occurred:\n",
      "\u001b[0;31mTypeError\u001b[0m                                 Traceback (most recent call last)",
      "\u001b[0;32m<ipython-input-82-79a51c140dde>\u001b[0m in \u001b[0;36m<module>\u001b[0;34m()\u001b[0m\n\u001b[1;32m      3\u001b[0m \u001b[0;31m# temp=np.reshape(temp,(28,28))\u001b[0m\u001b[0;34m\u001b[0m\u001b[0;34m\u001b[0m\u001b[0m\n\u001b[1;32m      4\u001b[0m \u001b[0;31m# temp=temp*255\u001b[0m\u001b[0;34m\u001b[0m\u001b[0;34m\u001b[0m\u001b[0m\n\u001b[0;32m----> 5\u001b[0;31m \u001b[0mim\u001b[0m \u001b[0;34m=\u001b[0m \u001b[0mImage\u001b[0m\u001b[0;34m.\u001b[0m\u001b[0mfromarray\u001b[0m\u001b[0;34m(\u001b[0m\u001b[0mtemp\u001b[0m\u001b[0;34m)\u001b[0m\u001b[0;34m.\u001b[0m\u001b[0mconvert\u001b[0m\u001b[0;34m(\u001b[0m\u001b[0mmode\u001b[0m\u001b[0;34m=\u001b[0m\u001b[0;34m'L'\u001b[0m\u001b[0;34m)\u001b[0m\u001b[0;34m\u001b[0m\u001b[0m\n\u001b[0m\u001b[1;32m      6\u001b[0m \u001b[0mim\u001b[0m\u001b[0;34m.\u001b[0m\u001b[0msave\u001b[0m\u001b[0;34m(\u001b[0m\u001b[0;34m\"pic1.jpg\"\u001b[0m\u001b[0;34m)\u001b[0m\u001b[0;34m\u001b[0m\u001b[0m\n",
      "\u001b[0;32m~/anaconda3/lib/python3.6/site-packages/PIL/Image.py\u001b[0m in \u001b[0;36mfromarray\u001b[0;34m(obj, mode)\u001b[0m\n\u001b[1;32m   2429\u001b[0m         \u001b[0;32mexcept\u001b[0m \u001b[0mKeyError\u001b[0m\u001b[0;34m:\u001b[0m\u001b[0;34m\u001b[0m\u001b[0m\n\u001b[1;32m   2430\u001b[0m             \u001b[0;31m# print(typekey)\u001b[0m\u001b[0;34m\u001b[0m\u001b[0;34m\u001b[0m\u001b[0m\n\u001b[0;32m-> 2431\u001b[0;31m             \u001b[0;32mraise\u001b[0m \u001b[0mTypeError\u001b[0m\u001b[0;34m(\u001b[0m\u001b[0;34m\"Cannot handle this data type\"\u001b[0m\u001b[0;34m)\u001b[0m\u001b[0;34m\u001b[0m\u001b[0m\n\u001b[0m\u001b[1;32m   2432\u001b[0m     \u001b[0;32melse\u001b[0m\u001b[0;34m:\u001b[0m\u001b[0;34m\u001b[0m\u001b[0m\n\u001b[1;32m   2433\u001b[0m         \u001b[0mrawmode\u001b[0m \u001b[0;34m=\u001b[0m \u001b[0mmode\u001b[0m\u001b[0;34m\u001b[0m\u001b[0m\n",
      "\u001b[0;31mTypeError\u001b[0m: Cannot handle this data type"
     ]
    }
   ],
   "source": [
    "from PIL import Image\n",
    "temp = test_r.iloc[0]\n",
    "temp=np.reshape(temp,(28,28))\n",
    "temp=temp*255\n",
    "im = Image.fromarray(temp).convert(mode='L') # L for black and white\n",
    "# im.save(\"pic1.jpg\")"
   ]
  },
  {
   "cell_type": "code",
   "execution_count": 33,
   "metadata": {},
   "outputs": [],
   "source": [
    "from PIL import Image\n",
    "temp = img_df[1]\n",
    "temp=np.reshape(temp,(28,28))\n",
    "temp=temp*255\n",
    "im = Image.fromarray(temp).convert('RGB') # RGB for color\n",
    "# im.save(\"img_df1.jpg\")"
   ]
  },
  {
   "cell_type": "code",
   "execution_count": null,
   "metadata": {},
   "outputs": [],
   "source": []
  }
 ],
 "metadata": {
  "kernelspec": {
   "display_name": "Python [default]",
   "language": "python",
   "name": "python3"
  },
  "language_info": {
   "codemirror_mode": {
    "name": "ipython",
    "version": 3
   },
   "file_extension": ".py",
   "mimetype": "text/x-python",
   "name": "python",
   "nbconvert_exporter": "python",
   "pygments_lexer": "ipython3",
   "version": "3.6.4"
  }
 },
 "nbformat": 4,
 "nbformat_minor": 2
}
