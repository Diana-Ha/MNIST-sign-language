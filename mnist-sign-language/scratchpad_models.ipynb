{
 "cells": [
  {
   "cell_type": "markdown",
   "metadata": {},
   "source": [
    "# BEFORE YOU BEGIN:\n",
    "## Run cells until the next markdown cell to avoid having to rerun all models"
   ]
  },
  {
   "cell_type": "code",
   "execution_count": 9,
   "metadata": {},
   "outputs": [],
   "source": [
    "import numpy as np\n",
    "import pandas as pd\n",
    "import math\n",
    "from sklearn.model_selection import train_test_split\n",
    "from sklearn.preprocessing import StandardScaler\n",
    "import matplotlib.pyplot as plt\n",
    "\n",
    "from keras.models import load_model\n",
    "from keras import optimizers\n",
    "from keras import losses\n",
    "from keras.models import Sequential\n",
    "from keras.layers import Dense, Activation, Flatten\n",
    "from keras.utils import to_categorical\n",
    "from keras.layers import Dropout\n",
    "from keras.layers import Convolution2D, MaxPooling2D\n",
    "\n",
    "import tensorflow as tf\n",
    "from keras import backend as K\n",
    "\n",
    "import os\n",
    "import h5py"
   ]
  },
  {
   "cell_type": "code",
   "execution_count": 10,
   "metadata": {},
   "outputs": [],
   "source": [
    "train = pd.read_csv('./sign-language-mnist/sign_mnist_train.csv')\n",
    "\n",
    "test = pd.read_csv('./sign-language-mnist/sign_mnist_test.csv')"
   ]
  },
  {
   "cell_type": "code",
   "execution_count": 11,
   "metadata": {
    "collapsed": true
   },
   "outputs": [
    {
     "data": {
      "text/plain": [
       "{0,\n",
       " 1,\n",
       " 2,\n",
       " 3,\n",
       " 4,\n",
       " 5,\n",
       " 6,\n",
       " 7,\n",
       " 8,\n",
       " 10,\n",
       " 11,\n",
       " 12,\n",
       " 13,\n",
       " 14,\n",
       " 15,\n",
       " 16,\n",
       " 17,\n",
       " 18,\n",
       " 19,\n",
       " 20,\n",
       " 21,\n",
       " 22,\n",
       " 23,\n",
       " 24}"
      ]
     },
     "execution_count": 11,
     "metadata": {},
     "output_type": "execute_result"
    }
   ],
   "source": [
    "set(train['label'].unique())"
   ]
  },
  {
   "cell_type": "code",
   "execution_count": 14,
   "metadata": {},
   "outputs": [
    {
     "data": {
      "text/html": [
       "<div>\n",
       "<style scoped>\n",
       "    .dataframe tbody tr th:only-of-type {\n",
       "        vertical-align: middle;\n",
       "    }\n",
       "\n",
       "    .dataframe tbody tr th {\n",
       "        vertical-align: top;\n",
       "    }\n",
       "\n",
       "    .dataframe thead th {\n",
       "        text-align: right;\n",
       "    }\n",
       "</style>\n",
       "<table border=\"1\" class=\"dataframe\">\n",
       "  <thead>\n",
       "    <tr style=\"text-align: right;\">\n",
       "      <th></th>\n",
       "      <th>label</th>\n",
       "      <th>pixel1</th>\n",
       "      <th>pixel2</th>\n",
       "      <th>pixel3</th>\n",
       "      <th>pixel4</th>\n",
       "      <th>pixel5</th>\n",
       "      <th>pixel6</th>\n",
       "      <th>pixel7</th>\n",
       "      <th>pixel8</th>\n",
       "      <th>pixel9</th>\n",
       "      <th>...</th>\n",
       "      <th>pixel775</th>\n",
       "      <th>pixel776</th>\n",
       "      <th>pixel777</th>\n",
       "      <th>pixel778</th>\n",
       "      <th>pixel779</th>\n",
       "      <th>pixel780</th>\n",
       "      <th>pixel781</th>\n",
       "      <th>pixel782</th>\n",
       "      <th>pixel783</th>\n",
       "      <th>pixel784</th>\n",
       "    </tr>\n",
       "  </thead>\n",
       "  <tbody>\n",
       "    <tr>\n",
       "      <th>0</th>\n",
       "      <td>6</td>\n",
       "      <td>149</td>\n",
       "      <td>149</td>\n",
       "      <td>150</td>\n",
       "      <td>150</td>\n",
       "      <td>150</td>\n",
       "      <td>151</td>\n",
       "      <td>151</td>\n",
       "      <td>150</td>\n",
       "      <td>151</td>\n",
       "      <td>...</td>\n",
       "      <td>138</td>\n",
       "      <td>148</td>\n",
       "      <td>127</td>\n",
       "      <td>89</td>\n",
       "      <td>82</td>\n",
       "      <td>96</td>\n",
       "      <td>106</td>\n",
       "      <td>112</td>\n",
       "      <td>120</td>\n",
       "      <td>107</td>\n",
       "    </tr>\n",
       "    <tr>\n",
       "      <th>1</th>\n",
       "      <td>5</td>\n",
       "      <td>126</td>\n",
       "      <td>128</td>\n",
       "      <td>131</td>\n",
       "      <td>132</td>\n",
       "      <td>133</td>\n",
       "      <td>134</td>\n",
       "      <td>135</td>\n",
       "      <td>135</td>\n",
       "      <td>136</td>\n",
       "      <td>...</td>\n",
       "      <td>47</td>\n",
       "      <td>104</td>\n",
       "      <td>194</td>\n",
       "      <td>183</td>\n",
       "      <td>186</td>\n",
       "      <td>184</td>\n",
       "      <td>184</td>\n",
       "      <td>184</td>\n",
       "      <td>182</td>\n",
       "      <td>180</td>\n",
       "    </tr>\n",
       "    <tr>\n",
       "      <th>2</th>\n",
       "      <td>10</td>\n",
       "      <td>85</td>\n",
       "      <td>88</td>\n",
       "      <td>92</td>\n",
       "      <td>96</td>\n",
       "      <td>105</td>\n",
       "      <td>123</td>\n",
       "      <td>135</td>\n",
       "      <td>143</td>\n",
       "      <td>147</td>\n",
       "      <td>...</td>\n",
       "      <td>68</td>\n",
       "      <td>166</td>\n",
       "      <td>242</td>\n",
       "      <td>227</td>\n",
       "      <td>230</td>\n",
       "      <td>227</td>\n",
       "      <td>226</td>\n",
       "      <td>225</td>\n",
       "      <td>224</td>\n",
       "      <td>222</td>\n",
       "    </tr>\n",
       "    <tr>\n",
       "      <th>3</th>\n",
       "      <td>0</td>\n",
       "      <td>203</td>\n",
       "      <td>205</td>\n",
       "      <td>207</td>\n",
       "      <td>206</td>\n",
       "      <td>207</td>\n",
       "      <td>209</td>\n",
       "      <td>210</td>\n",
       "      <td>209</td>\n",
       "      <td>210</td>\n",
       "      <td>...</td>\n",
       "      <td>154</td>\n",
       "      <td>248</td>\n",
       "      <td>247</td>\n",
       "      <td>248</td>\n",
       "      <td>253</td>\n",
       "      <td>236</td>\n",
       "      <td>230</td>\n",
       "      <td>240</td>\n",
       "      <td>253</td>\n",
       "      <td>255</td>\n",
       "    </tr>\n",
       "    <tr>\n",
       "      <th>4</th>\n",
       "      <td>3</td>\n",
       "      <td>188</td>\n",
       "      <td>191</td>\n",
       "      <td>193</td>\n",
       "      <td>195</td>\n",
       "      <td>199</td>\n",
       "      <td>201</td>\n",
       "      <td>202</td>\n",
       "      <td>203</td>\n",
       "      <td>203</td>\n",
       "      <td>...</td>\n",
       "      <td>26</td>\n",
       "      <td>40</td>\n",
       "      <td>64</td>\n",
       "      <td>48</td>\n",
       "      <td>29</td>\n",
       "      <td>46</td>\n",
       "      <td>49</td>\n",
       "      <td>46</td>\n",
       "      <td>46</td>\n",
       "      <td>53</td>\n",
       "    </tr>\n",
       "  </tbody>\n",
       "</table>\n",
       "<p>5 rows × 785 columns</p>\n",
       "</div>"
      ],
      "text/plain": [
       "   label  pixel1  pixel2  pixel3  pixel4  pixel5  pixel6  pixel7  pixel8  \\\n",
       "0      6     149     149     150     150     150     151     151     150   \n",
       "1      5     126     128     131     132     133     134     135     135   \n",
       "2     10      85      88      92      96     105     123     135     143   \n",
       "3      0     203     205     207     206     207     209     210     209   \n",
       "4      3     188     191     193     195     199     201     202     203   \n",
       "\n",
       "   pixel9    ...     pixel775  pixel776  pixel777  pixel778  pixel779  \\\n",
       "0     151    ...          138       148       127        89        82   \n",
       "1     136    ...           47       104       194       183       186   \n",
       "2     147    ...           68       166       242       227       230   \n",
       "3     210    ...          154       248       247       248       253   \n",
       "4     203    ...           26        40        64        48        29   \n",
       "\n",
       "   pixel780  pixel781  pixel782  pixel783  pixel784  \n",
       "0        96       106       112       120       107  \n",
       "1       184       184       184       182       180  \n",
       "2       227       226       225       224       222  \n",
       "3       236       230       240       253       255  \n",
       "4        46        49        46        46        53  \n",
       "\n",
       "[5 rows x 785 columns]"
      ]
     },
     "execution_count": 14,
     "metadata": {},
     "output_type": "execute_result"
    }
   ],
   "source": [
    "test.head()"
   ]
  },
  {
   "cell_type": "code",
   "execution_count": 15,
   "metadata": {},
   "outputs": [
    {
     "name": "stdout",
     "output_type": "stream",
     "text": [
      "train_shape:  (27455, 785)\n",
      "test_shape:  (7172, 785)\n"
     ]
    }
   ],
   "source": [
    "print(\"train_shape: \", train.shape)\n",
    "print(\"test_shape: \", test.shape)"
   ]
  },
  {
   "cell_type": "code",
   "execution_count": 16,
   "metadata": {},
   "outputs": [],
   "source": [
    "X = train.drop(['label'], axis=1).values\n",
    "y = train['label'].values\n",
    "\n",
    "testset_X = test.drop(['label'], axis=1).values\n",
    "testset_y = test['label'].values"
   ]
  },
  {
   "cell_type": "code",
   "execution_count": 17,
   "metadata": {},
   "outputs": [],
   "source": [
    "# change shape of data\n",
    "X = X.reshape(X.shape[0], 28, 28, 1)\n",
    "\n",
    "testset_X = testset_X.reshape(testset_X.shape[0], 28, 28, 1)"
   ]
  },
  {
   "cell_type": "code",
   "execution_count": 18,
   "metadata": {},
   "outputs": [],
   "source": [
    "# change the data from integer to float\n",
    "X = X.astype('float32')\n",
    "\n",
    "testset_X = testset_X.astype('float32')"
   ]
  },
  {
   "cell_type": "code",
   "execution_count": 19,
   "metadata": {},
   "outputs": [],
   "source": [
    "# scale data\n",
    "X /= 255\n",
    "\n",
    "testset_X /= 255"
   ]
  },
  {
   "cell_type": "code",
   "execution_count": 20,
   "metadata": {},
   "outputs": [],
   "source": [
    "# one hot encode our y variables of our data\n",
    "y = to_categorical(y)\n",
    "\n",
    "testset_y = to_categorical(testset_y)"
   ]
  },
  {
   "cell_type": "code",
   "execution_count": 21,
   "metadata": {},
   "outputs": [],
   "source": [
    "X_train, X_test, y_train, y_test = train_test_split(X, y, random_state=42, stratify=y)"
   ]
  },
  {
   "cell_type": "markdown",
   "metadata": {},
   "source": [
    "# Run all cells above this point, then skip to desired model below..."
   ]
  },
  {
   "cell_type": "code",
   "execution_count": 30,
   "metadata": {},
   "outputs": [
    {
     "name": "stdout",
     "output_type": "stream",
     "text": [
      "7172/7172 [==============================] - 2s 298us/step\n",
      "test score:  0.24665342409701835\n",
      "test accuracy:  0.9136921360847742\n"
     ]
    }
   ],
   "source": [
    "model = Sequential()\n",
    "model.add(Convolution2D(filters =32,\n",
    "                       kernel_size=5,\n",
    "                       activation='relu',\n",
    "                       input_shape = (28,28,1)))\n",
    "\n",
    "model.add(MaxPooling2D(pool_size=(2,2),\n",
    "                         strides=2,\n",
    "                        padding='same'))\n",
    "\n",
    "model.add(Convolution2D(filters=64,\n",
    "                      kernel_size=5,\n",
    "                      activation='relu'))\n",
    "model.add(MaxPooling2D(pool_size=(2,2),\n",
    "                        strides=2,\n",
    "                        padding='same'))\n",
    "model.add(Flatten())\n",
    "model.add(Dense(128, activation='relu'))\n",
    "model.add(Dropout(0.4))\n",
    "model.add(Dense(60, activation='relu'))\n",
    "model.add(Dense(25, activation='softmax'))\n",
    "\n",
    "model.compile(loss='categorical_crossentropy', optimizer='adam', metrics=['accuracy'])\n",
    "                               \n",
    "model.fit(X_train, y_train,\n",
    "                   epochs=20,\n",
    "                   batch_size=1000,\n",
    "                   verbose=0)\n",
    "\n",
    "loss, acc = model.evaluate(testset_X, testset_y)\n",
    "\n",
    "print('test loss: ', score)\n",
    "print('test accuracy: ', acc)"
   ]
  },
  {
   "cell_type": "code",
   "execution_count": 18,
   "metadata": {},
   "outputs": [
    {
     "data": {
      "text/plain": [
       "0.9629935404968484"
      ]
     },
     "execution_count": 18,
     "metadata": {},
     "output_type": "execute_result"
    }
   ],
   "source": [
    "history.history['acc'][-1]"
   ]
  },
  {
   "cell_type": "code",
   "execution_count": 19,
   "metadata": {},
   "outputs": [
    {
     "data": {
      "image/png": "[encoded data removed]",
      "text/plain": [
       "<matplotlib.figure.Figure at 0x11395a828>"
      ]
     },
     "metadata": {},
     "output_type": "display_data"
    }
   ],
   "source": [
    "plt.plot(history.history['acc']);"
   ]
  },
  {
   "cell_type": "code",
   "execution_count": 20,
   "metadata": {},
   "outputs": [],
   "source": [
    "model = Sequential()\n",
    "model.add(Convolution2D(filters =32,\n",
    "                       kernel_size=5,\n",
    "                       activation='relu',\n",
    "                       input_shape = (28,28,1)))\n",
    "\n",
    "model.add(MaxPooling2D(pool_size=(2,2),\n",
    "                         strides=2,\n",
    "                        padding='same'))\n",
    "\n",
    "model.add(Convolution2D(filters=64,\n",
    "                      kernel_size=5,\n",
    "                      activation='relu'))\n",
    "model.add(MaxPooling2D(pool_size=(2,2),\n",
    "                        strides=2,\n",
    "                        padding='same'))\n",
    "model.add(Flatten())\n",
    "model.add(Dense(128, activation='relu'))\n",
    "model.add(Dropout(0.5))\n",
    "model.add(Dense(60, activation='relu'))\n",
    "model.add(Dense(25, activation='softmax'))\n",
    "\n",
    "model.compile(loss='categorical_crossentropy', optimizer='adam', metrics=['accuracy'])\n",
    "                               \n",
    "history = model.fit(X_train, y_train,\n",
    "                   epochs=20,\n",
    "                   batch_size=1000,\n",
    "                   verbose=0)"
   ]
  },
  {
   "cell_type": "code",
   "execution_count": 22,
   "metadata": {},
   "outputs": [
    {
     "name": "stdout",
     "output_type": "stream",
     "text": [
      "0.936282840764955\n"
     ]
    },
    {
     "data": {
      "image/png": "[encoded data removed]",
      "text/plain": [
       "<matplotlib.figure.Figure at 0x1a2be12eb8>"
      ]
     },
     "metadata": {},
     "output_type": "display_data"
    }
   ],
   "source": [
    "print(history.history['acc'][-1])\n",
    "plt.plot(history.history['acc']);"
   ]
  },
  {
   "cell_type": "code",
   "execution_count": 28,
   "metadata": {},
   "outputs": [],
   "source": [
    "model = Sequential()\n",
    "model.add(Convolution2D(filters =32,\n",
    "                       kernel_size=5,\n",
    "                       activation='relu',\n",
    "                       input_shape = (28,28,1)))\n",
    "\n",
    "model.add(MaxPooling2D(pool_size=(2,2),\n",
    "                         strides=2,\n",
    "                        padding='same'))\n",
    "\n",
    "model.add(Dropout(0.4))\n",
    "\n",
    "model.add(Convolution2D(filters=64,\n",
    "                      kernel_size=5,\n",
    "                      activation='relu'))\n",
    "model.add(MaxPooling2D(pool_size=(2,2),\n",
    "                        strides=2,\n",
    "                        padding='same'))\n",
    "model.add(Flatten())\n",
    "model.add(Dense(128, activation='relu'))\n",
    "model.add(Dropout(0.4))\n",
    "model.add(Dense(60, activation='relu'))\n",
    "model.add(Dense(25, activation='softmax'))\n",
    "\n",
    "model.compile(loss='categorical_crossentropy', optimizer='adam', metrics=['accuracy'])\n",
    "                               \n",
    "history = model.fit(X_train, y_train,\n",
    "                   epochs=20,\n",
    "                   batch_size=1000,\n",
    "                   verbose=0)"
   ]
  },
  {
   "cell_type": "code",
   "execution_count": 29,
   "metadata": {},
   "outputs": [
    {
     "name": "stdout",
     "output_type": "stream",
     "text": [
      "0.9458015593408606\n"
     ]
    },
    {
     "data": {
      "image/png": "[encoded data removed]",
      "text/plain": [
       "<matplotlib.figure.Figure at 0x1a2defb4e0>"
      ]
     },
     "metadata": {},
     "output_type": "display_data"
    }
   ],
   "source": [
    "print(history.history['acc'][-1])\n",
    "plt.plot(history.history['acc']);"
   ]
  },
  {
   "cell_type": "code",
   "execution_count": null,
   "metadata": {},
   "outputs": [],
   "source": []
  },
  {
   "cell_type": "code",
   "execution_count": null,
   "metadata": {},
   "outputs": [],
   "source": []
  },
  {
   "cell_type": "code",
   "execution_count": 31,
   "metadata": {
    "collapsed": true
   },
   "outputs": [
    {
     "name": "stdout",
     "output_type": "stream",
     "text": [
      "Requirement already up-to-date: keras in /Users/dianaha/anaconda3/lib/python3.6/site-packages (2.2.0)\r\n",
      "Requirement not upgraded as not directly required: keras-applications==1.0.2 in /Users/dianaha/anaconda3/lib/python3.6/site-packages (from keras) (1.0.2)\r\n",
      "Requirement not upgraded as not directly required: keras-preprocessing==1.0.1 in /Users/dianaha/anaconda3/lib/python3.6/site-packages (from keras) (1.0.1)\r\n",
      "Requirement not upgraded as not directly required: six>=1.9.0 in /Users/dianaha/anaconda3/lib/python3.6/site-packages (from keras) (1.11.0)\r\n",
      "Requirement not upgraded as not directly required: h5py in /Users/dianaha/anaconda3/lib/python3.6/site-packages (from keras) (2.7.1)\r\n",
      "Requirement not upgraded as not directly required: pyyaml in /Users/dianaha/anaconda3/lib/python3.6/site-packages (from keras) (3.12)\r\n",
      "Requirement not upgraded as not directly required: scipy>=0.14 in /Users/dianaha/anaconda3/lib/python3.6/site-packages (from keras) (1.0.0)\r\n",
      "Requirement not upgraded as not directly required: numpy>=1.9.1 in /Users/dianaha/anaconda3/lib/python3.6/site-packages (from keras) (1.14.0)\r\n"
     ]
    }
   ],
   "source": [
    "# !pip3 install --upgrade keras"
   ]
  },
  {
   "cell_type": "code",
   "execution_count": 21,
   "metadata": {
    "collapsed": true
   },
   "outputs": [
    {
     "name": "stdout",
     "output_type": "stream",
     "text": [
      "Collecting keras==2.1.3\n",
      "\u001b[?25l  Downloading https://files.pythonhosted.org/packages/08/ae/7f94a03cb3f74cdc8a0f5f86d1df5c1dd686acb9a9c2a421c64f8497358e/Keras-2.1.3-py2.py3-none-any.whl (319kB)\n",
      "\u001b[K    100% |████████████████████████████████| 327kB 6.6MB/s ta 0:00:011\n",
      "\u001b[?25hRequirement not upgraded as not directly required: pyyaml in /Users/dianaha/anaconda3/lib/python3.6/site-packages (from keras==2.1.3) (3.12)\n",
      "Requirement not upgraded as not directly required: scipy>=0.14 in /Users/dianaha/anaconda3/lib/python3.6/site-packages (from keras==2.1.3) (1.0.0)\n",
      "Requirement not upgraded as not directly required: numpy>=1.9.1 in /Users/dianaha/anaconda3/lib/python3.6/site-packages (from keras==2.1.3) (1.14.0)\n",
      "Requirement not upgraded as not directly required: six>=1.9.0 in /Users/dianaha/anaconda3/lib/python3.6/site-packages (from keras==2.1.3) (1.11.0)\n",
      "\u001b[31mkeras-preprocessing 1.0.1 has requirement keras>=2.1.6, but you'll have keras 2.1.3 which is incompatible.\u001b[0m\n",
      "\u001b[31mkeras-applications 1.0.2 has requirement keras>=2.1.6, but you'll have keras 2.1.3 which is incompatible.\u001b[0m\n",
      "Installing collected packages: keras\n",
      "  Found existing installation: Keras 2.2.0\n",
      "    Uninstalling Keras-2.2.0:\n",
      "      Successfully uninstalled Keras-2.2.0\n",
      "Successfully installed keras-2.1.3\n"
     ]
    }
   ],
   "source": [
    "# !pip3 install --upgrade keras==2.1.3"
   ]
  },
  {
   "cell_type": "code",
   "execution_count": 25,
   "metadata": {
    "collapsed": true
   },
   "outputs": [
    {
     "name": "stdout",
     "output_type": "stream",
     "text": [
      "tensorflow                         1.8.0           \r\n",
      "tensorflow-hub                     0.1.0           \r\n"
     ]
    }
   ],
   "source": [
    "# !pip3 list | grep tensorflow"
   ]
  },
  {
   "cell_type": "code",
   "execution_count": 30,
   "metadata": {
    "collapsed": true
   },
   "outputs": [
    {
     "name": "stdout",
     "output_type": "stream",
     "text": [
      "/Users/dianaha/anaconda3/lib/python3.6/site-packages/h5py/__init__.py:36: FutureWarning: Conversion of the second argument of issubdtype from `float` to `np.floating` is deprecated. In future, it will be treated as `np.float64 == np.dtype(float).type`.\n",
      "  from ._conv import register_converters as _register_converters\n",
      "Using TensorFlow backend.\n",
      "Couldn't import dot_parser, loading of dot files will not be possible.\n",
      "2.2.0\n"
     ]
    }
   ],
   "source": [
    "# !python3 -c \"import keras; print(keras.__version__)\""
   ]
  },
  {
   "cell_type": "code",
   "execution_count": 42,
   "metadata": {
    "collapsed": true
   },
   "outputs": [
    {
     "name": "stdout",
     "output_type": "stream",
     "text": [
      "Solving environment: done\n",
      "\n",
      "## Package Plan ##\n",
      "\n",
      "  environment location: /Users/dianaha/anaconda3\n",
      "\n",
      "  added / updated specs: \n",
      "    - tensorflow\n",
      "\n",
      "\n",
      "The following packages will be downloaded:\n",
      "\n",
      "    package                    |            build\n",
      "    ---------------------------|-----------------\n",
      "    tensorflow-1.1.0           |      np112py36_0        23.6 MB\n",
      "    pymc3-3.3                  |           py36_0         1.2 MB\n",
      "    keras-base-2.2.0           |           py36_0         449 KB\n",
      "    keras-preprocessing-1.0.1  |           py36_0          45 KB\n",
      "    keras-2.2.0                |                0           5 KB\n",
      "    keras-applications-1.0.2   |           py36_0          47 KB\n",
      "    scikit-image-0.14.0        |   py36h0a44026_1        23.4 MB\n",
      "    numba-0.36.2               |np112py36h37f72b1_0         2.3 MB\n",
      "    numpy-1.12.1               |   py36h8871d66_1         3.6 MB\n",
      "    ------------------------------------------------------------\n",
      "                                           Total:        54.6 MB\n",
      "\n",
      "The following NEW packages will be INSTALLED:\n",
      "\n",
      "    keras-applications:  1.0.2-py36_0                          \n",
      "    keras-base:          2.2.0-py36_0                          \n",
      "    keras-preprocessing: 1.0.1-py36_0                          \n",
      "\n",
      "The following packages will be UPDATED:\n",
      "\n",
      "    keras:               2.1.5-py36_0               conda-forge --> 2.2.0-0                   \n",
      "    numba:               0.36.2-np114py36hc2f221f_0             --> 0.36.2-np112py36h37f72b1_0\n",
      "    scikit-image:        0.13.1-py36h1de35cc_1                  --> 0.14.0-py36h0a44026_1     \n",
      "    tensorflow:          1.0.0-py36_0               conda-forge --> 1.1.0-np112py36_0         \n",
      "\n",
      "The following packages will be DOWNGRADED:\n",
      "\n",
      "    numpy:               1.14.0-py36h8a80b8c_1                  --> 1.12.1-py36h8871d66_1     \n",
      "    pymc3:               3.4.1-py36_0                           --> 3.3-py36_0                \n",
      "\n",
      "\n",
      "Downloading and Extracting Packages\n",
      "tensorflow-1.1.0     | 23.6 MB | ####################################### | 100% \n",
      "pymc3-3.3            |  1.2 MB | ####################################### | 100% \n",
      "keras-base-2.2.0     |  449 KB | ####################################### | 100% \n",
      "keras-preprocessing- |   45 KB | ####################################### | 100% \n",
      "keras-2.2.0          |    5 KB | ####################################### | 100% \n",
      "keras-applications-1 |   47 KB | ####################################### | 100% \n",
      "scikit-image-0.14.0  | 23.4 MB | ####################################### | 100% \n",
      "numba-0.36.2         |  2.3 MB | ####################################### | 100% \n",
      "numpy-1.12.1         |  3.6 MB | ####################################### | 100% \n",
      "Preparing transaction: done\n",
      "Verifying transaction: done\n",
      "Executing transaction: done\n"
     ]
    }
   ],
   "source": [
    "# !conda update tensorflow --y"
   ]
  },
  {
   "cell_type": "code",
   "execution_count": 21,
   "metadata": {
    "collapsed": true
   },
   "outputs": [
    {
     "name": "stdout",
     "output_type": "stream",
     "text": [
      "Requirement already up-to-date: keras in /Users/dianaha/anaconda3/lib/python3.6/site-packages (2.2.0)\n",
      "Collecting tensorflow\n",
      "  Using cached https://files.pythonhosted.org/packages/03/ad/d732a5d9d50bfcd8aeb6e4a266065a8868829388e4e2b529ff689f1fc923/tensorflow-1.8.0-cp36-cp36m-macosx_10_11_x86_64.whl\n",
      "Requirement not upgraded as not directly required: numpy>=1.9.1 in /Users/dianaha/anaconda3/lib/python3.6/site-packages (from keras) (1.12.1)\n",
      "Requirement not upgraded as not directly required: scipy>=0.14 in /Users/dianaha/anaconda3/lib/python3.6/site-packages (from keras) (1.0.0)\n",
      "Requirement not upgraded as not directly required: six>=1.9.0 in /Users/dianaha/anaconda3/lib/python3.6/site-packages (from keras) (1.11.0)\n",
      "Requirement not upgraded as not directly required: pyyaml in /Users/dianaha/anaconda3/lib/python3.6/site-packages (from keras) (3.12)\n",
      "Requirement not upgraded as not directly required: h5py in /Users/dianaha/anaconda3/lib/python3.6/site-packages (from keras) (2.7.1)\n",
      "Requirement not upgraded as not directly required: keras_applications==1.0.2 in /Users/dianaha/anaconda3/lib/python3.6/site-packages (from keras) (1.0.2)\n",
      "Requirement not upgraded as not directly required: keras_preprocessing==1.0.1 in /Users/dianaha/anaconda3/lib/python3.6/site-packages (from keras) (1.0.1)\n",
      "Requirement not upgraded as not directly required: gast>=0.2.0 in /Users/dianaha/anaconda3/lib/python3.6/site-packages (from tensorflow) (0.2.0)\n",
      "Requirement not upgraded as not directly required: protobuf>=3.4.0 in /Users/dianaha/anaconda3/lib/python3.6/site-packages (from tensorflow) (3.5.2)\n",
      "Collecting tensorboard<1.9.0,>=1.8.0 (from tensorflow)\n",
      "  Using cached https://files.pythonhosted.org/packages/59/a6/0ae6092b7542cfedba6b2a1c9b8dceaf278238c39484f3ba03b03f07803c/tensorboard-1.8.0-py3-none-any.whl\n",
      "Requirement not upgraded as not directly required: astor>=0.6.0 in /Users/dianaha/anaconda3/lib/python3.6/site-packages (from tensorflow) (0.6.2)\n",
      "Requirement not upgraded as not directly required: termcolor>=1.1.0 in /Users/dianaha/anaconda3/lib/python3.6/site-packages (from tensorflow) (1.1.0)\n",
      "Requirement not upgraded as not directly required: grpcio>=1.8.6 in /Users/dianaha/anaconda3/lib/python3.6/site-packages (from tensorflow) (1.12.1)\n",
      "Requirement not upgraded as not directly required: absl-py>=0.1.6 in /Users/dianaha/anaconda3/lib/python3.6/site-packages (from tensorflow) (0.2.2)\n",
      "Requirement not upgraded as not directly required: wheel>=0.26 in /Users/dianaha/anaconda3/lib/python3.6/site-packages (from tensorflow) (0.30.0)\n",
      "Requirement not upgraded as not directly required: setuptools in /Users/dianaha/anaconda3/lib/python3.6/site-packages (from protobuf>=3.4.0->tensorflow) (38.4.0)\n",
      "Requirement not upgraded as not directly required: bleach==1.5.0 in /Users/dianaha/anaconda3/lib/python3.6/site-packages (from tensorboard<1.9.0,>=1.8.0->tensorflow) (1.5.0)\n",
      "Requirement not upgraded as not directly required: markdown>=2.6.8 in /Users/dianaha/anaconda3/lib/python3.6/site-packages (from tensorboard<1.9.0,>=1.8.0->tensorflow) (2.6.11)\n",
      "Requirement not upgraded as not directly required: werkzeug>=0.11.10 in /Users/dianaha/anaconda3/lib/python3.6/site-packages (from tensorboard<1.9.0,>=1.8.0->tensorflow) (0.14.1)\n",
      "Requirement not upgraded as not directly required: html5lib==0.9999999 in /Users/dianaha/anaconda3/lib/python3.6/site-packages (from tensorboard<1.9.0,>=1.8.0->tensorflow) (0.9999999)\n",
      "\u001b[31mtensorflow 1.8.0 has requirement numpy>=1.13.3, but you'll have numpy 1.12.1 which is incompatible.\u001b[0m\n",
      "\u001b[31mcvxpy 1.0.5 has requirement numpy>=1.13, but you'll have numpy 1.12.1 which is incompatible.\u001b[0m\n",
      "Installing collected packages: tensorboard, tensorflow\n",
      "  Found existing installation: tensorboard 1.7.0\n",
      "    Uninstalling tensorboard-1.7.0:\n",
      "      Successfully uninstalled tensorboard-1.7.0\n",
      "  Found existing installation: tensorflow 1.7.1\n",
      "    Uninstalling tensorflow-1.7.1:\n",
      "      Successfully uninstalled tensorflow-1.7.1\n",
      "Successfully installed tensorboard-1.8.0 tensorflow-1.8.0\n"
     ]
    }
   ],
   "source": [
    "# !pip install -U keras tensorflow"
   ]
  },
  {
   "cell_type": "code",
   "execution_count": 23,
   "metadata": {
    "collapsed": true
   },
   "outputs": [
    {
     "name": "stdout",
     "output_type": "stream",
     "text": [
      "Solving environment: done\n",
      "\n",
      "# All requested packages already installed.\n",
      "\n"
     ]
    }
   ],
   "source": [
    "# !conda upgrade numpy"
   ]
  },
  {
   "cell_type": "code",
   "execution_count": 26,
   "metadata": {
    "collapsed": true
   },
   "outputs": [
    {
     "name": "stdout",
     "output_type": "stream",
     "text": [
      "Requirement already up-to-date: tensorflow in /Users/dianaha/anaconda3/lib/python3.6/site-packages (1.8.0)\n",
      "Requirement not upgraded as not directly required: termcolor>=1.1.0 in /Users/dianaha/anaconda3/lib/python3.6/site-packages (from tensorflow) (1.1.0)\n",
      "Requirement not upgraded as not directly required: gast>=0.2.0 in /Users/dianaha/anaconda3/lib/python3.6/site-packages (from tensorflow) (0.2.0)\n",
      "Requirement not upgraded as not directly required: protobuf>=3.4.0 in /Users/dianaha/anaconda3/lib/python3.6/site-packages (from tensorflow) (3.5.2)\n",
      "Collecting numpy>=1.13.3 (from tensorflow)\n",
      "  Using cached https://files.pythonhosted.org/packages/f6/cd/b2c50b5190b66c711c23ef23c41d450297eb5a54d2033f8dcb3b8b13ac85/numpy-1.14.5-cp36-cp36m-macosx_10_6_intel.macosx_10_9_intel.macosx_10_9_x86_64.macosx_10_10_intel.macosx_10_10_x86_64.whl\n",
      "Requirement not upgraded as not directly required: six>=1.10.0 in /Users/dianaha/anaconda3/lib/python3.6/site-packages (from tensorflow) (1.11.0)\n",
      "Requirement not upgraded as not directly required: tensorboard<1.9.0,>=1.8.0 in /Users/dianaha/anaconda3/lib/python3.6/site-packages (from tensorflow) (1.8.0)\n",
      "Requirement not upgraded as not directly required: grpcio>=1.8.6 in /Users/dianaha/anaconda3/lib/python3.6/site-packages (from tensorflow) (1.12.1)\n",
      "Requirement not upgraded as not directly required: wheel>=0.26 in /Users/dianaha/anaconda3/lib/python3.6/site-packages (from tensorflow) (0.30.0)\n",
      "Requirement not upgraded as not directly required: astor>=0.6.0 in /Users/dianaha/anaconda3/lib/python3.6/site-packages (from tensorflow) (0.6.2)\n",
      "Requirement not upgraded as not directly required: absl-py>=0.1.6 in /Users/dianaha/anaconda3/lib/python3.6/site-packages (from tensorflow) (0.2.2)\n",
      "Requirement not upgraded as not directly required: setuptools in /Users/dianaha/anaconda3/lib/python3.6/site-packages (from protobuf>=3.4.0->tensorflow) (38.4.0)\n",
      "Requirement not upgraded as not directly required: html5lib==0.9999999 in /Users/dianaha/anaconda3/lib/python3.6/site-packages (from tensorboard<1.9.0,>=1.8.0->tensorflow) (0.9999999)\n",
      "Requirement not upgraded as not directly required: markdown>=2.6.8 in /Users/dianaha/anaconda3/lib/python3.6/site-packages (from tensorboard<1.9.0,>=1.8.0->tensorflow) (2.6.11)\n",
      "Requirement not upgraded as not directly required: werkzeug>=0.11.10 in /Users/dianaha/anaconda3/lib/python3.6/site-packages (from tensorboard<1.9.0,>=1.8.0->tensorflow) (0.14.1)\n",
      "Requirement not upgraded as not directly required: bleach==1.5.0 in /Users/dianaha/anaconda3/lib/python3.6/site-packages (from tensorboard<1.9.0,>=1.8.0->tensorflow) (1.5.0)\n",
      "Installing collected packages: numpy\n",
      "  Found existing installation: numpy 1.12.1\n",
      "    Uninstalling numpy-1.12.1:\n",
      "      Successfully uninstalled numpy-1.12.1\n",
      "Successfully installed numpy-1.14.5\n"
     ]
    }
   ],
   "source": [
    "# !pip3 install --upgrade tensorflow "
   ]
  },
  {
   "cell_type": "code",
   "execution_count": 31,
   "metadata": {},
   "outputs": [
    {
     "name": "stdout",
     "output_type": "stream",
     "text": [
      "test loss:  0.2737865300710914\n",
      "test accuracy:  0.9267986614612381\n"
     ]
    }
   ],
   "source": [
    "model = Sequential()\n",
    "model.add(Convolution2D(filters =32,\n",
    "                       kernel_size=5,\n",
    "                       activation='relu',\n",
    "                       input_shape = (28,28,1)))\n",
    "\n",
    "model.add(MaxPooling2D(pool_size=(2,2),\n",
    "                         strides=2,\n",
    "                        padding='same'))\n",
    "\n",
    "model.add(Convolution2D(filters=64,\n",
    "                      kernel_size=5,\n",
    "                      activation='relu'))\n",
    "model.add(MaxPooling2D(pool_size=(2,2),\n",
    "                        strides=2,\n",
    "                        padding='same'))\n",
    "model.add(Flatten())\n",
    "model.add(Dense(128, activation='relu'))\n",
    "model.add(Dropout(0.4))\n",
    "model.add(Dense(60, activation='relu'))\n",
    "model.add(Dense(25, activation='softmax'))\n",
    "\n",
    "model.compile(loss='categorical_crossentropy', optimizer='adam', metrics=['accuracy'])\n",
    "                               \n",
    "model.fit(X_train, y_train, epochs=20, batch_size=1000, verbose=0, validation_data=(X_test, y_test))\n",
    "\n",
    "score = model.evaluate(testset_X, testset_y, verbose=0)\n",
    "\n",
    "print('test loss: ', score[0])\n",
    "print('test accuracy: ', score[1])"
   ]
  },
  {
   "cell_type": "code",
   "execution_count": 39,
   "metadata": {},
   "outputs": [
    {
     "name": "stdout",
     "output_type": "stream",
     "text": [
      "test loss:  0.23733289059011575\n",
      "test accuracy:  0.9228945900725042\n"
     ]
    }
   ],
   "source": [
    "# changed epochs from 20 to 30\n",
    "model = Sequential()\n",
    "model.add(Convolution2D(filters =32,\n",
    "                       kernel_size=5,\n",
    "                       activation='relu',\n",
    "                       input_shape = (28,28,1)))\n",
    "\n",
    "model.add(MaxPooling2D(pool_size=(2,2),\n",
    "                         strides=2,\n",
    "                        padding='same'))\n",
    "\n",
    "model.add(Convolution2D(filters=64,\n",
    "                      kernel_size=3,\n",
    "                      activation='relu'))\n",
    "\n",
    "model.add(MaxPooling2D(pool_size=(2,2),\n",
    "                        strides=2,\n",
    "                        padding='same'))\n",
    "\n",
    "model.add(Flatten())\n",
    "model.add(Dense(128, activation='relu'))\n",
    "model.add(Dropout(0.4))\n",
    "model.add(Dense(60, activation='relu'))\n",
    "model.add(Dense(25, activation='softmax'))\n",
    "\n",
    "model.compile(loss='categorical_crossentropy', optimizer='adam', metrics=['accuracy'])\n",
    "                               \n",
    "model.fit(X_train, y_train, epochs=30, batch_size=1000, verbose=0, validation_data=(X_test, y_test))\n",
    "\n",
    "score = model.evaluate(testset_X, testset_y, verbose=0)\n",
    "\n",
    "print('test loss: ', score[0])\n",
    "print('test accuracy: ', score[1])"
   ]
  },
  {
   "cell_type": "code",
   "execution_count": 41,
   "metadata": {},
   "outputs": [
    {
     "name": "stdout",
     "output_type": "stream",
     "text": [
      "test loss:  0.30756135211908975\n",
      "test accuracy:  0.9241494701617401\n"
     ]
    }
   ],
   "source": [
    "# change epochs from 20 to 40\n",
    "model = Sequential()\n",
    "model.add(Convolution2D(filters =32,\n",
    "                       kernel_size=5,\n",
    "                       activation='relu',\n",
    "                       input_shape = (28,28,1)))\n",
    "\n",
    "model.add(MaxPooling2D(pool_size=(2,2),\n",
    "                         strides=2,\n",
    "                        padding='same'))\n",
    "\n",
    "model.add(Convolution2D(filters=64,\n",
    "                      kernel_size=5,\n",
    "                      activation='relu'))\n",
    "model.add(MaxPooling2D(pool_size=(2,2),\n",
    "                        strides=2,\n",
    "                        padding='same'))\n",
    "model.add(Flatten())\n",
    "model.add(Dense(128, activation='relu'))\n",
    "model.add(Dropout(0.4))\n",
    "model.add(Dense(60, activation='relu'))\n",
    "model.add(Dense(25, activation='softmax'))\n",
    "\n",
    "model.compile(loss='categorical_crossentropy', optimizer='adam', metrics=['accuracy'])\n",
    "                               \n",
    "model.fit(X_train, y_train, epochs=40, batch_size=1000, verbose=0, validation_data=(X_test, y_test))\n",
    "\n",
    "score = model.evaluate(testset_X, testset_y, verbose=0)\n",
    "\n",
    "print('test loss: ', score[0])\n",
    "print('test accuracy: ', score[1])"
   ]
  },
  {
   "cell_type": "code",
   "execution_count": 42,
   "metadata": {},
   "outputs": [
    {
     "name": "stdout",
     "output_type": "stream",
     "text": [
      "test loss:  0.17073229849296978\n",
      "test accuracy:  0.945064138315672\n"
     ]
    }
   ],
   "source": [
    "# added dropout of 0.2 after every maxpool layer\n",
    "model = Sequential()\n",
    "model.add(Convolution2D(filters =32,\n",
    "                       kernel_size=5,\n",
    "                       activation='relu',\n",
    "                       input_shape = (28,28,1)))\n",
    "model.add(MaxPooling2D(pool_size=(2,2),\n",
    "                         strides=2,\n",
    "                        padding='same'))\n",
    "model.add(Dropout(0.2))\n",
    "\n",
    "model.add(Convolution2D(filters=64,\n",
    "                      kernel_size=5,\n",
    "                      activation='relu'))\n",
    "model.add(MaxPooling2D(pool_size=(2,2),\n",
    "                        strides=2,\n",
    "                        padding='same'))\n",
    "model.add(Dropout(0.2))\n",
    "\n",
    "model.add(Flatten())\n",
    "model.add(Dense(128, activation='relu'))\n",
    "model.add(Dropout(0.4))\n",
    "model.add(Dense(60, activation='relu'))\n",
    "model.add(Dense(25, activation='softmax'))\n",
    "\n",
    "model.compile(loss='categorical_crossentropy', optimizer='adam', metrics=['accuracy'])\n",
    "                               \n",
    "model.fit(X_train, y_train, epochs=20, batch_size=1000, verbose=0, validation_data=(X_test, y_test))\n",
    "\n",
    "score = model.evaluate(testset_X, testset_y, verbose=0)\n",
    "\n",
    "print('test loss: ', score[0])\n",
    "print('test accuracy: ', score[1])"
   ]
  },
  {
   "cell_type": "code",
   "execution_count": 43,
   "metadata": {},
   "outputs": [
    {
     "name": "stdout",
     "output_type": "stream",
     "text": [
      "test loss:  3.1748576914207005\n",
      "test accuracy:  0.06595092024539877\n"
     ]
    }
   ],
   "source": [
    "# changed optimizer from adam to sgd\n",
    "model = Sequential()\n",
    "model.add(Convolution2D(filters =32,\n",
    "                       kernel_size=5,\n",
    "                       activation='relu',\n",
    "                       input_shape = (28,28,1)))\n",
    "\n",
    "model.add(MaxPooling2D(pool_size=(2,2),\n",
    "                         strides=2,\n",
    "                        padding='same'))\n",
    "\n",
    "model.add(Convolution2D(filters=64,\n",
    "                      kernel_size=5,\n",
    "                      activation='relu'))\n",
    "model.add(MaxPooling2D(pool_size=(2,2),\n",
    "                        strides=2,\n",
    "                        padding='same'))\n",
    "model.add(Flatten())\n",
    "model.add(Dense(128, activation='relu'))\n",
    "model.add(Dropout(0.4))\n",
    "model.add(Dense(60, activation='relu'))\n",
    "model.add(Dense(25, activation='softmax'))\n",
    "\n",
    "model.compile(loss='categorical_crossentropy', optimizer='sgd', metrics=['accuracy'])\n",
    "                               \n",
    "model.fit(X_train, y_train, epochs=20, batch_size=1000, verbose=0, validation_data=(X_test, y_test))\n",
    "\n",
    "score = model.evaluate(testset_X, testset_y, verbose=0)\n",
    "\n",
    "print('test loss: ', score[0])\n",
    "print('test accuracy: ', score[1])"
   ]
  },
  {
   "cell_type": "code",
   "execution_count": 45,
   "metadata": {},
   "outputs": [
    {
     "name": "stdout",
     "output_type": "stream",
     "text": [
      "test loss:  3.198444426292424\n",
      "test accuracy:  0.04782487451199108\n"
     ]
    }
   ],
   "source": [
    "from keras.optimizers import SGD\n",
    "\n",
    "# changed optimizer from adam to sgd\n",
    "# changed sgd default parameters\n",
    "model = Sequential()\n",
    "model.add(Convolution2D(filters =32,\n",
    "                       kernel_size=5,\n",
    "                       activation='relu',\n",
    "                       input_shape = (28,28,1)))\n",
    "\n",
    "model.add(MaxPooling2D(pool_size=(2,2),\n",
    "                         strides=2,\n",
    "                        padding='same'))\n",
    "\n",
    "model.add(Convolution2D(filters=64,\n",
    "                      kernel_size=5,\n",
    "                      activation='relu'))\n",
    "model.add(MaxPooling2D(pool_size=(2,2),\n",
    "                        strides=2,\n",
    "                        padding='same'))\n",
    "model.add(Flatten())\n",
    "model.add(Dense(128, activation='relu'))\n",
    "model.add(Dropout(0.4))\n",
    "model.add(Dense(60, activation='relu'))\n",
    "model.add(Dense(25, activation='softmax'))\n",
    "\n",
    "sgd = SGD(lr=0.01, decay=1e-6, momentum=0.9, nesterov=True)  # taken from VGG-like example\n",
    "model.compile(loss='categorical_crossentropy', optimizer='sgd', metrics=['accuracy'])\n",
    "                               \n",
    "model.fit(X_train, y_train, epochs=20, batch_size=1000, verbose=0, validation_data=(X_test, y_test))\n",
    "\n",
    "score = model.evaluate(testset_X, testset_y, verbose=0)\n",
    "\n",
    "print('test loss: ', score[0])\n",
    "print('test accuracy: ', score[1])"
   ]
  },
  {
   "cell_type": "code",
   "execution_count": 46,
   "metadata": {},
   "outputs": [
    {
     "name": "stdout",
     "output_type": "stream",
     "text": [
      "test loss:  0.19644637139928586\n",
      "test accuracy:  0.9484104852203011\n"
     ]
    }
   ],
   "source": [
    "# added dropout of 0.25 after every maxpool layer\n",
    "# changed final dropout to 0.5\n",
    "model = Sequential()\n",
    "model.add(Convolution2D(filters =32,\n",
    "                       kernel_size=5,\n",
    "                       activation='relu',\n",
    "                       input_shape = (28,28,1)))\n",
    "model.add(MaxPooling2D(pool_size=(2,2),\n",
    "                         strides=2,\n",
    "                        padding='same'))\n",
    "model.add(Dropout(0.25))\n",
    "\n",
    "model.add(Convolution2D(filters=64,\n",
    "                      kernel_size=5,\n",
    "                      activation='relu'))\n",
    "model.add(MaxPooling2D(pool_size=(2,2),\n",
    "                        strides=2,\n",
    "                        padding='same'))\n",
    "model.add(Dropout(0.25))\n",
    "\n",
    "model.add(Flatten())\n",
    "model.add(Dense(128, activation='relu'))\n",
    "model.add(Dropout(0.5))\n",
    "model.add(Dense(60, activation='relu'))\n",
    "model.add(Dense(25, activation='softmax'))\n",
    "\n",
    "model.compile(loss='categorical_crossentropy', optimizer='adam', metrics=['accuracy'])\n",
    "                               \n",
    "model.fit(X_train, y_train, epochs=20, batch_size=1000, verbose=0, validation_data=(X_test, y_test))\n",
    "\n",
    "score = model.evaluate(testset_X, testset_y, verbose=0)\n",
    "\n",
    "print('test loss: ', score[0])\n",
    "print('test accuracy: ', score[1])"
   ]
  },
  {
   "cell_type": "code",
   "execution_count": 47,
   "metadata": {},
   "outputs": [
    {
     "name": "stdout",
     "output_type": "stream",
     "text": [
      "test loss:  0.1914532310529355\n",
      "test accuracy:  0.9456218627997769\n"
     ]
    }
   ],
   "source": [
    "# added dropout of 0.5 after every maxpool layer\n",
    "# changed final dropout to 0.5\n",
    "model = Sequential()\n",
    "model.add(Convolution2D(filters =32,\n",
    "                       kernel_size=5,\n",
    "                       activation='relu',\n",
    "                       input_shape = (28,28,1)))\n",
    "model.add(MaxPooling2D(pool_size=(2,2),\n",
    "                         strides=2,\n",
    "                        padding='same'))\n",
    "model.add(Dropout(0.5))\n",
    "\n",
    "model.add(Convolution2D(filters=64,\n",
    "                      kernel_size=5,\n",
    "                      activation='relu'))\n",
    "model.add(MaxPooling2D(pool_size=(2,2),\n",
    "                        strides=2,\n",
    "                        padding='same'))\n",
    "model.add(Dropout(0.5))\n",
    "\n",
    "model.add(Flatten())\n",
    "model.add(Dense(128, activation='relu'))\n",
    "model.add(Dropout(0.5))\n",
    "model.add(Dense(60, activation='relu'))\n",
    "model.add(Dense(25, activation='softmax'))\n",
    "\n",
    "model.compile(loss='categorical_crossentropy', optimizer='adam', metrics=['accuracy'])\n",
    "                               \n",
    "model.fit(X_train, y_train, epochs=20, batch_size=1000, verbose=0, validation_data=(X_test, y_test))\n",
    "\n",
    "score = model.evaluate(testset_X, testset_y, verbose=0)\n",
    "\n",
    "print('test loss: ', score[0])\n",
    "print('test accuracy: ', score[1])"
   ]
  },
  {
   "cell_type": "code",
   "execution_count": 48,
   "metadata": {},
   "outputs": [
    {
     "name": "stdout",
     "output_type": "stream",
     "text": [
      "test loss:  0.14614794927099134\n",
      "test accuracy:  0.9491076408254322\n"
     ]
    }
   ],
   "source": [
    "# added dropout of 0.4 after every maxpool layer\n",
    "# changed final dropout to 0.4\n",
    "model = Sequential()\n",
    "model.add(Convolution2D(filters =32,\n",
    "                       kernel_size=5,\n",
    "                       activation='relu',\n",
    "                       input_shape = (28,28,1)))\n",
    "model.add(MaxPooling2D(pool_size=(2,2),\n",
    "                         strides=2,\n",
    "                        padding='same'))\n",
    "model.add(Dropout(0.4))\n",
    "\n",
    "model.add(Convolution2D(filters=64,\n",
    "                      kernel_size=5,\n",
    "                      activation='relu'))\n",
    "model.add(MaxPooling2D(pool_size=(2,2),\n",
    "                        strides=2,\n",
    "                        padding='same'))\n",
    "model.add(Dropout(0.4))\n",
    "\n",
    "model.add(Flatten())\n",
    "model.add(Dense(128, activation='relu'))\n",
    "model.add(Dropout(0.4))\n",
    "model.add(Dense(60, activation='relu'))\n",
    "model.add(Dense(25, activation='softmax'))\n",
    "\n",
    "model.compile(loss='categorical_crossentropy', optimizer='adam', metrics=['accuracy'])\n",
    "                               \n",
    "model.fit(X_train, y_train, epochs=20, batch_size=1000, verbose=0, validation_data=(X_test, y_test))\n",
    "\n",
    "score = model.evaluate(testset_X, testset_y, verbose=0)\n",
    "\n",
    "print('test loss: ', score[0])\n",
    "print('test accuracy: ', score[1])"
   ]
  },
  {
   "cell_type": "code",
   "execution_count": 22,
   "metadata": {},
   "outputs": [
    {
     "ename": "AttributeError",
     "evalue": "module 'h5py' has no attribute 'File'",
     "output_type": "error",
     "traceback": [
      "\u001b[0;31m---------------------------------------------------------------------------\u001b[0m",
      "\u001b[0;31mAttributeError\u001b[0m                            Traceback (most recent call last)",
      "\u001b[0;32m<ipython-input-22-72cb2ceafc0e>\u001b[0m in \u001b[0;36m<module>\u001b[0;34m()\u001b[0m\n\u001b[1;32m     32\u001b[0m \u001b[0mscore\u001b[0m \u001b[0;34m=\u001b[0m \u001b[0mmodel\u001b[0m\u001b[0;34m.\u001b[0m\u001b[0mevaluate\u001b[0m\u001b[0;34m(\u001b[0m\u001b[0mtestset_X\u001b[0m\u001b[0;34m,\u001b[0m \u001b[0mtestset_y\u001b[0m\u001b[0;34m,\u001b[0m \u001b[0mverbose\u001b[0m\u001b[0;34m=\u001b[0m\u001b[0;36m0\u001b[0m\u001b[0;34m)\u001b[0m\u001b[0;34m\u001b[0m\u001b[0m\n\u001b[1;32m     33\u001b[0m \u001b[0;34m\u001b[0m\u001b[0m\n\u001b[0;32m---> 34\u001b[0;31m \u001b[0mmodel\u001b[0m\u001b[0;34m.\u001b[0m\u001b[0msave\u001b[0m\u001b[0;34m(\u001b[0m\u001b[0;34m\"model3.h5\"\u001b[0m\u001b[0;34m)\u001b[0m\u001b[0;34m\u001b[0m\u001b[0m\n\u001b[0m\u001b[1;32m     35\u001b[0m \u001b[0;34m\u001b[0m\u001b[0m\n\u001b[1;32m     36\u001b[0m \u001b[0mprint\u001b[0m\u001b[0;34m(\u001b[0m\u001b[0;34m'test loss: '\u001b[0m\u001b[0;34m,\u001b[0m \u001b[0mscore\u001b[0m\u001b[0;34m[\u001b[0m\u001b[0;36m0\u001b[0m\u001b[0;34m]\u001b[0m\u001b[0;34m)\u001b[0m\u001b[0;34m\u001b[0m\u001b[0m\n",
      "\u001b[0;32m~/anaconda3/lib/python3.6/site-packages/keras/engine/network.py\u001b[0m in \u001b[0;36msave\u001b[0;34m(self, filepath, overwrite, include_optimizer)\u001b[0m\n\u001b[1;32m   1102\u001b[0m             \u001b[0;32mraise\u001b[0m \u001b[0mNotImplementedError\u001b[0m\u001b[0;34m\u001b[0m\u001b[0m\n\u001b[1;32m   1103\u001b[0m         \u001b[0;32mfrom\u001b[0m \u001b[0;34m.\u001b[0m\u001b[0;34m.\u001b[0m\u001b[0mmodels\u001b[0m \u001b[0;32mimport\u001b[0m \u001b[0msave_model\u001b[0m\u001b[0;34m\u001b[0m\u001b[0m\n\u001b[0;32m-> 1104\u001b[0;31m         \u001b[0msave_model\u001b[0m\u001b[0;34m(\u001b[0m\u001b[0mself\u001b[0m\u001b[0;34m,\u001b[0m \u001b[0mfilepath\u001b[0m\u001b[0;34m,\u001b[0m \u001b[0moverwrite\u001b[0m\u001b[0;34m,\u001b[0m \u001b[0minclude_optimizer\u001b[0m\u001b[0;34m)\u001b[0m\u001b[0;34m\u001b[0m\u001b[0m\n\u001b[0m\u001b[1;32m   1105\u001b[0m \u001b[0;34m\u001b[0m\u001b[0m\n\u001b[1;32m   1106\u001b[0m     \u001b[0;32mdef\u001b[0m \u001b[0msave_weights\u001b[0m\u001b[0;34m(\u001b[0m\u001b[0mself\u001b[0m\u001b[0;34m,\u001b[0m \u001b[0mfilepath\u001b[0m\u001b[0;34m,\u001b[0m \u001b[0moverwrite\u001b[0m\u001b[0;34m=\u001b[0m\u001b[0;32mTrue\u001b[0m\u001b[0;34m)\u001b[0m\u001b[0;34m:\u001b[0m\u001b[0;34m\u001b[0m\u001b[0m\n",
      "\u001b[0;32m~/anaconda3/lib/python3.6/site-packages/keras/engine/saving.py\u001b[0m in \u001b[0;36msave_model\u001b[0;34m(model, filepath, overwrite, include_optimizer)\u001b[0m\n\u001b[1;32m     97\u001b[0m     \u001b[0;32mfrom\u001b[0m \u001b[0;34m.\u001b[0m\u001b[0;34m.\u001b[0m \u001b[0;32mimport\u001b[0m \u001b[0m__version__\u001b[0m \u001b[0;32mas\u001b[0m \u001b[0mkeras_version\u001b[0m\u001b[0;34m\u001b[0m\u001b[0m\n\u001b[1;32m     98\u001b[0m \u001b[0;34m\u001b[0m\u001b[0m\n\u001b[0;32m---> 99\u001b[0;31m     \u001b[0;32mif\u001b[0m \u001b[0;32mnot\u001b[0m \u001b[0misinstance\u001b[0m\u001b[0;34m(\u001b[0m\u001b[0mfilepath\u001b[0m\u001b[0;34m,\u001b[0m \u001b[0mh5py\u001b[0m\u001b[0;34m.\u001b[0m\u001b[0mFile\u001b[0m\u001b[0;34m)\u001b[0m\u001b[0;34m:\u001b[0m\u001b[0;34m\u001b[0m\u001b[0m\n\u001b[0m\u001b[1;32m    100\u001b[0m         \u001b[0;31m# If file exists and should not be overwritten.\u001b[0m\u001b[0;34m\u001b[0m\u001b[0;34m\u001b[0m\u001b[0m\n\u001b[1;32m    101\u001b[0m         \u001b[0;32mif\u001b[0m \u001b[0;32mnot\u001b[0m \u001b[0moverwrite\u001b[0m \u001b[0;32mand\u001b[0m \u001b[0mos\u001b[0m\u001b[0;34m.\u001b[0m\u001b[0mpath\u001b[0m\u001b[0;34m.\u001b[0m\u001b[0misfile\u001b[0m\u001b[0;34m(\u001b[0m\u001b[0mfilepath\u001b[0m\u001b[0;34m)\u001b[0m\u001b[0;34m:\u001b[0m\u001b[0;34m\u001b[0m\u001b[0m\n",
      "\u001b[0;31mAttributeError\u001b[0m: module 'h5py' has no attribute 'File'"
     ]
    }
   ],
   "source": [
    "## BEST at 0.96\n",
    "# added dropout of 0.3 after every maxpool layer\n",
    "# changed final dropout to 0.4\n",
    "model = Sequential()\n",
    "model.add(Convolution2D(filters =32,\n",
    "                       kernel_size=5,\n",
    "                       activation='relu',\n",
    "                       input_shape = (28,28,1)))\n",
    "model.add(MaxPooling2D(pool_size=(2,2),\n",
    "                         strides=2,\n",
    "                        padding='same'))\n",
    "model.add(Dropout(0.3))\n",
    "\n",
    "model.add(Convolution2D(filters=64,\n",
    "                      kernel_size=5,\n",
    "                      activation='relu'))\n",
    "model.add(MaxPooling2D(pool_size=(2,2),\n",
    "                        strides=2,\n",
    "                        padding='same'))\n",
    "model.add(Dropout(0.3))\n",
    "\n",
    "model.add(Flatten())\n",
    "model.add(Dense(128, activation='relu'))\n",
    "model.add(Dropout(0.4))\n",
    "model.add(Dense(60, activation='relu'))\n",
    "model.add(Dense(25, activation='softmax'))\n",
    "\n",
    "model.compile(loss='categorical_crossentropy', optimizer='adam', metrics=['accuracy'])\n",
    "                               \n",
    "model.fit(X_train, y_train, epochs=20, batch_size=1000, verbose=0, validation_data=(X_test, y_test))\n",
    "\n",
    "score = model.evaluate(testset_X, testset_y, verbose=0)\n",
    "\n",
    "# model.save(\"model3.h5\")\n",
    "\n",
    "print('test loss: ', score[0])\n",
    "print('test accuracy: ', score[1])\n",
    "# first run: 0.96+\n",
    "# saved run - model1: 0.95775"
   ]
  },
  {
   "cell_type": "code",
   "execution_count": 50,
   "metadata": {},
   "outputs": [
    {
     "name": "stdout",
     "output_type": "stream",
     "text": [
      "test loss:  0.16947355587450955\n",
      "test accuracy:  0.949665365309537\n"
     ]
    }
   ],
   "source": [
    "# added dropout of 0.4 / 0.3 after every maxpool layer\n",
    "# changed final dropout to 0.4\n",
    "model = Sequential()\n",
    "model.add(Convolution2D(filters =32,\n",
    "                       kernel_size=5,\n",
    "                       activation='relu',\n",
    "                       input_shape = (28,28,1)))\n",
    "model.add(MaxPooling2D(pool_size=(2,2),\n",
    "                         strides=2,\n",
    "                        padding='same'))\n",
    "model.add(Dropout(0.4))\n",
    "\n",
    "model.add(Convolution2D(filters=64,\n",
    "                      kernel_size=5,\n",
    "                      activation='relu'))\n",
    "model.add(MaxPooling2D(pool_size=(2,2),\n",
    "                        strides=2,\n",
    "                        padding='same'))\n",
    "model.add(Dropout(0.3))\n",
    "\n",
    "model.add(Flatten())\n",
    "model.add(Dense(128, activation='relu'))\n",
    "model.add(Dropout(0.4))\n",
    "model.add(Dense(60, activation='relu'))\n",
    "model.add(Dense(25, activation='softmax'))\n",
    "\n",
    "model.compile(loss='categorical_crossentropy', optimizer='adam', metrics=['accuracy'])\n",
    "                               \n",
    "model.fit(X_train, y_train, epochs=20, batch_size=1000, verbose=0, validation_data=(X_test, y_test))\n",
    "\n",
    "score = model.evaluate(testset_X, testset_y, verbose=0)\n",
    "\n",
    "print('test loss: ', score[0])\n",
    "print('test accuracy: ', score[1])"
   ]
  },
  {
   "cell_type": "code",
   "execution_count": 21,
   "metadata": {},
   "outputs": [
    {
     "name": "stdout",
     "output_type": "stream",
     "text": [
      "test loss:  0.16777871462626345\n",
      "test accuracy:  0.9461795872838817\n"
     ]
    }
   ],
   "source": [
    "# added dropout of 0.3 / 0.4 after every maxpool layer\n",
    "# changed final dropout to 0.4\n",
    "model = Sequential()\n",
    "model.add(Convolution2D(filters =32,\n",
    "                       kernel_size=5,\n",
    "                       activation='relu',\n",
    "                       input_shape = (28,28,1)))\n",
    "model.add(MaxPooling2D(pool_size=(2,2),\n",
    "                         strides=2,\n",
    "                        padding='same'))\n",
    "model.add(Dropout(0.3))\n",
    "\n",
    "model.add(Convolution2D(filters=64,\n",
    "                      kernel_size=5,\n",
    "                      activation='relu'))\n",
    "model.add(MaxPooling2D(pool_size=(2,2),\n",
    "                        strides=2,\n",
    "                        padding='same'))\n",
    "model.add(Dropout(0.4))\n",
    "\n",
    "model.add(Flatten())\n",
    "model.add(Dense(128, activation='relu'))\n",
    "model.add(Dropout(0.4))\n",
    "model.add(Dense(60, activation='relu'))\n",
    "model.add(Dense(25, activation='softmax'))\n",
    "\n",
    "model.compile(loss='categorical_crossentropy', optimizer='adam', metrics=['accuracy'])\n",
    "                               \n",
    "model.fit(X_train, y_train, epochs=20, batch_size=1000, verbose=0, validation_data=(X_test, y_test))\n",
    "\n",
    "score = model.evaluate(testset_X, testset_y, verbose=0)\n",
    "\n",
    "# model.save(\"model2.h5\")\n",
    "\n",
    "print('test loss: ', score[0])\n",
    "print('test accuracy: ', score[1])\n",
    "# first run: 0.958+\n",
    "# saved run - model2: 0.946"
   ]
  },
  {
   "cell_type": "code",
   "execution_count": 52,
   "metadata": {},
   "outputs": [
    {
     "name": "stdout",
     "output_type": "stream",
     "text": [
      "test loss:  0.15717389920884323\n",
      "test accuracy:  0.9535694366982711\n"
     ]
    }
   ],
   "source": [
    "# added dropout of 0.3/0.35 after every maxpool layer\n",
    "# changed final dropout to 0.4\n",
    "model = Sequential()\n",
    "model.add(Convolution2D(filters =32,\n",
    "                       kernel_size=5,\n",
    "                       activation='relu',\n",
    "                       input_shape = (28,28,1)))\n",
    "model.add(MaxPooling2D(pool_size=(2,2),\n",
    "                         strides=2,\n",
    "                        padding='same'))\n",
    "model.add(Dropout(0.3))\n",
    "\n",
    "model.add(Convolution2D(filters=64,\n",
    "                      kernel_size=5,\n",
    "                      activation='relu'))\n",
    "model.add(MaxPooling2D(pool_size=(2,2),\n",
    "                        strides=2,\n",
    "                        padding='same'))\n",
    "model.add(Dropout(0.35))\n",
    "\n",
    "model.add(Flatten())\n",
    "model.add(Dense(128, activation='relu'))\n",
    "model.add(Dropout(0.4))\n",
    "model.add(Dense(60, activation='relu'))\n",
    "model.add(Dense(25, activation='softmax'))\n",
    "\n",
    "model.compile(loss='categorical_crossentropy', optimizer='adam', metrics=['accuracy'])\n",
    "                               \n",
    "model.fit(X_train, y_train, epochs=20, batch_size=1000, verbose=0, validation_data=(X_test, y_test))\n",
    "\n",
    "score = model.evaluate(testset_X, testset_y, verbose=0)\n",
    "\n",
    "print('test loss: ', score[0])\n",
    "print('test accuracy: ', score[1])"
   ]
  },
  {
   "cell_type": "code",
   "execution_count": 54,
   "metadata": {},
   "outputs": [
    {
     "name": "stdout",
     "output_type": "stream",
     "text": [
      "test loss:  0.2299371942227454\n",
      "test accuracy:  0.9256832124930284\n"
     ]
    }
   ],
   "source": [
    "# added dropout of 0.3 after every maxpool layer\n",
    "# changed final dropout to 0.4\n",
    "# adam to rmsprop\n",
    "model = Sequential()\n",
    "model.add(Convolution2D(filters =32,\n",
    "                       kernel_size=5,\n",
    "                       activation='relu',\n",
    "                       input_shape = (28,28,1)))\n",
    "model.add(MaxPooling2D(pool_size=(2,2),\n",
    "                         strides=2,\n",
    "                        padding='same'))\n",
    "model.add(Dropout(0.3))\n",
    "\n",
    "model.add(Convolution2D(filters=64,\n",
    "                      kernel_size=5,\n",
    "                      activation='relu'))\n",
    "model.add(MaxPooling2D(pool_size=(2,2),\n",
    "                        strides=2,\n",
    "                        padding='same'))\n",
    "model.add(Dropout(0.3))\n",
    "\n",
    "model.add(Flatten())\n",
    "model.add(Dense(128, activation='relu'))\n",
    "model.add(Dropout(0.4))\n",
    "model.add(Dense(60, activation='relu'))\n",
    "model.add(Dense(25, activation='softmax'))\n",
    "\n",
    "model.compile(loss='categorical_crossentropy', optimizer='rmsprop', metrics=['accuracy'])\n",
    "                               \n",
    "model.fit(X_train, y_train, epochs=20, batch_size=1000, verbose=0, validation_data=(X_test, y_test))\n",
    "\n",
    "score = model.evaluate(testset_X, testset_y, verbose=0)\n",
    "\n",
    "print('test loss: ', score[0])\n",
    "print('test accuracy: ', score[1])"
   ]
  },
  {
   "cell_type": "code",
   "execution_count": 55,
   "metadata": {},
   "outputs": [
    {
     "name": "stdout",
     "output_type": "stream",
     "text": [
      "test loss:  0.26734018234387497\n",
      "test accuracy:  0.90574456218628\n"
     ]
    }
   ],
   "source": [
    "# added dropout of 0.3 after every maxpool layer\n",
    "# changed final dropout to 0.4\n",
    "# adam to adagrad\n",
    "model = Sequential()\n",
    "model.add(Convolution2D(filters =32,\n",
    "                       kernel_size=5,\n",
    "                       activation='relu',\n",
    "                       input_shape = (28,28,1)))\n",
    "model.add(MaxPooling2D(pool_size=(2,2),\n",
    "                         strides=2,\n",
    "                        padding='same'))\n",
    "model.add(Dropout(0.3))\n",
    "\n",
    "model.add(Convolution2D(filters=64,\n",
    "                      kernel_size=5,\n",
    "                      activation='relu'))\n",
    "model.add(MaxPooling2D(pool_size=(2,2),\n",
    "                        strides=2,\n",
    "                        padding='same'))\n",
    "model.add(Dropout(0.3))\n",
    "\n",
    "model.add(Flatten())\n",
    "model.add(Dense(128, activation='relu'))\n",
    "model.add(Dropout(0.4))\n",
    "model.add(Dense(60, activation='relu'))\n",
    "model.add(Dense(25, activation='softmax'))\n",
    "\n",
    "model.compile(loss='categorical_crossentropy', optimizer='adagrad', metrics=['accuracy'])\n",
    "                               \n",
    "model.fit(X_train, y_train, epochs=20, batch_size=1000, verbose=0, validation_data=(X_test, y_test))\n",
    "\n",
    "score = model.evaluate(testset_X, testset_y, verbose=0)\n",
    "\n",
    "print('test loss: ', score[0])\n",
    "print('test accuracy: ', score[1])"
   ]
  },
  {
   "cell_type": "code",
   "execution_count": 56,
   "metadata": {},
   "outputs": [
    {
     "name": "stdout",
     "output_type": "stream",
     "text": [
      "test loss:  0.23570776082745692\n",
      "test accuracy:  0.9182933630786392\n"
     ]
    }
   ],
   "source": [
    "# added dropout of 0.3 after every maxpool layer\n",
    "# changed final dropout to 0.4\n",
    "# adam to adadelta\n",
    "model = Sequential()\n",
    "model.add(Convolution2D(filters =32,\n",
    "                       kernel_size=5,\n",
    "                       activation='relu',\n",
    "                       input_shape = (28,28,1)))\n",
    "model.add(MaxPooling2D(pool_size=(2,2),\n",
    "                         strides=2,\n",
    "                        padding='same'))\n",
    "model.add(Dropout(0.3))\n",
    "\n",
    "model.add(Convolution2D(filters=64,\n",
    "                      kernel_size=5,\n",
    "                      activation='relu'))\n",
    "model.add(MaxPooling2D(pool_size=(2,2),\n",
    "                        strides=2,\n",
    "                        padding='same'))\n",
    "model.add(Dropout(0.3))\n",
    "\n",
    "model.add(Flatten())\n",
    "model.add(Dense(128, activation='relu'))\n",
    "model.add(Dropout(0.4))\n",
    "model.add(Dense(60, activation='relu'))\n",
    "model.add(Dense(25, activation='softmax'))\n",
    "\n",
    "model.compile(loss='categorical_crossentropy', optimizer='adadelta', metrics=['accuracy'])\n",
    "                               \n",
    "model.fit(X_train, y_train, epochs=20, batch_size=1000, verbose=0, validation_data=(X_test, y_test))\n",
    "\n",
    "score = model.evaluate(testset_X, testset_y, verbose=0)\n",
    "\n",
    "print('test loss: ', score[0])\n",
    "print('test accuracy: ', score[1])"
   ]
  },
  {
   "cell_type": "code",
   "execution_count": 57,
   "metadata": {},
   "outputs": [
    {
     "name": "stdout",
     "output_type": "stream",
     "text": [
      "test loss:  0.2212151524200994\n",
      "test accuracy:  0.930005577244841\n"
     ]
    }
   ],
   "source": [
    "# added dropout of 0.3 after every maxpool layer\n",
    "# changed final dropout to 0.4\n",
    "# adam to adamax\n",
    "model = Sequential()\n",
    "model.add(Convolution2D(filters =32,\n",
    "                       kernel_size=5,\n",
    "                       activation='relu',\n",
    "                       input_shape = (28,28,1)))\n",
    "model.add(MaxPooling2D(pool_size=(2,2),\n",
    "                         strides=2,\n",
    "                        padding='same'))\n",
    "model.add(Dropout(0.3))\n",
    "\n",
    "model.add(Convolution2D(filters=64,\n",
    "                      kernel_size=5,\n",
    "                      activation='relu'))\n",
    "model.add(MaxPooling2D(pool_size=(2,2),\n",
    "                        strides=2,\n",
    "                        padding='same'))\n",
    "model.add(Dropout(0.3))\n",
    "\n",
    "model.add(Flatten())\n",
    "model.add(Dense(128, activation='relu'))\n",
    "model.add(Dropout(0.4))\n",
    "model.add(Dense(60, activation='relu'))\n",
    "model.add(Dense(25, activation='softmax'))\n",
    "\n",
    "model.compile(loss='categorical_crossentropy', optimizer='adamax', metrics=['accuracy'])\n",
    "                               \n",
    "model.fit(X_train, y_train, epochs=20, batch_size=1000, verbose=0, validation_data=(X_test, y_test))\n",
    "\n",
    "score = model.evaluate(testset_X, testset_y, verbose=0)\n",
    "\n",
    "print('test loss: ', score[0])\n",
    "print('test accuracy: ', score[1])"
   ]
  },
  {
   "cell_type": "code",
   "execution_count": 58,
   "metadata": {},
   "outputs": [
    {
     "name": "stdout",
     "output_type": "stream",
     "text": [
      "test loss:  0.14908412914346966\n",
      "test accuracy:  0.9552426101505856\n"
     ]
    }
   ],
   "source": [
    "# added dropout of 0.3 after every maxpool layer\n",
    "# changed final dropout to 0.4\n",
    "# adam to nadam\n",
    "model = Sequential()\n",
    "model.add(Convolution2D(filters =32,\n",
    "                       kernel_size=5,\n",
    "                       activation='relu',\n",
    "                       input_shape = (28,28,1)))\n",
    "model.add(MaxPooling2D(pool_size=(2,2),\n",
    "                         strides=2,\n",
    "                        padding='same'))\n",
    "model.add(Dropout(0.3))\n",
    "\n",
    "model.add(Convolution2D(filters=64,\n",
    "                      kernel_size=5,\n",
    "                      activation='relu'))\n",
    "model.add(MaxPooling2D(pool_size=(2,2),\n",
    "                        strides=2,\n",
    "                        padding='same'))\n",
    "model.add(Dropout(0.3))\n",
    "\n",
    "model.add(Flatten())\n",
    "model.add(Dense(128, activation='relu'))\n",
    "model.add(Dropout(0.4))\n",
    "model.add(Dense(60, activation='relu'))\n",
    "model.add(Dense(25, activation='softmax'))\n",
    "\n",
    "model.compile(loss='categorical_crossentropy', optimizer='nadam', metrics=['accuracy'])\n",
    "                               \n",
    "model.fit(X_train, y_train, epochs=20, batch_size=1000, verbose=0, validation_data=(X_test, y_test))\n",
    "\n",
    "score = model.evaluate(testset_X, testset_y, verbose=0)\n",
    "\n",
    "print('test loss: ', score[0])\n",
    "print('test accuracy: ', score[1])"
   ]
  },
  {
   "cell_type": "markdown",
   "metadata": {},
   "source": [
    "# BEST Baseline 96% with 0.3 DO and 0.4 final DO"
   ]
  },
  {
   "cell_type": "code",
   "execution_count": 11,
   "metadata": {},
   "outputs": [
    {
     "name": "stdout",
     "output_type": "stream",
     "text": [
      "test loss:  0.4078451049224797\n",
      "test accuracy:  0.8623814835471277\n"
     ]
    }
   ],
   "source": [
    "# added Conv2D=16 and MaxPool and Dropout\n",
    "model = Sequential()\n",
    "\n",
    "model.add(Convolution2D(filters=16,\n",
    "                       kernel_size=2,\n",
    "                       activation='relu',\n",
    "                       input_shape = (28,28,1)))\n",
    "model.add(MaxPooling2D(pool_size=(2,2),\n",
    "                         strides=2,\n",
    "                        padding='same'))\n",
    "model.add(Dropout(0.3))\n",
    "\n",
    "\n",
    "model.add(Convolution2D(filters =32,\n",
    "                       kernel_size=5,\n",
    "                       activation='relu'))\n",
    "model.add(MaxPooling2D(pool_size=(2,2),\n",
    "                         strides=2,\n",
    "                        padding='same'))\n",
    "model.add(Dropout(0.3))\n",
    "\n",
    "model.add(Convolution2D(filters=64,\n",
    "                      kernel_size=5,\n",
    "                      activation='relu'))\n",
    "model.add(MaxPooling2D(pool_size=(2,2),\n",
    "                        strides=2,\n",
    "                        padding='same'))\n",
    "model.add(Dropout(0.3))\n",
    "\n",
    "model.add(Flatten())\n",
    "model.add(Dense(128, activation='relu'))\n",
    "model.add(Dropout(0.4))\n",
    "model.add(Dense(60, activation='relu'))\n",
    "model.add(Dense(25, activation='softmax'))\n",
    "\n",
    "model.compile(loss='categorical_crossentropy', optimizer='adam', metrics=['accuracy'])\n",
    "                               \n",
    "model.fit(X_train, y_train, epochs=20, batch_size=1000, verbose=0, validation_data=(X_test, y_test))\n",
    "\n",
    "score = model.evaluate(testset_X, testset_y, verbose=0)\n",
    "\n",
    "print('test loss: ', score[0])\n",
    "print('test accuracy: ', score[1])"
   ]
  },
  {
   "cell_type": "code",
   "execution_count": 13,
   "metadata": {},
   "outputs": [
    {
     "name": "stdout",
     "output_type": "stream",
     "text": [
      "test loss:  0.5443214864137116\n",
      "test accuracy:  0.8448131622978249\n"
     ]
    }
   ],
   "source": [
    "# added Conv2D=16 and MaxPool and Dropout\n",
    "# second MaxPool pool_size changed from 2 to 5\n",
    "model = Sequential()\n",
    "\n",
    "model.add(Convolution2D(filters=16,\n",
    "                       kernel_size=2,\n",
    "                       activation='relu',\n",
    "                       input_shape = (28,28,1)))\n",
    "model.add(MaxPooling2D(pool_size=(2,2),\n",
    "                         strides=2,\n",
    "                        padding='same'))\n",
    "model.add(Dropout(0.3))\n",
    "\n",
    "\n",
    "model.add(Convolution2D(filters =32,\n",
    "                       kernel_size=5,\n",
    "                       activation='relu'))\n",
    "model.add(MaxPooling2D(pool_size=(5,5),\n",
    "                         strides=2,\n",
    "                        padding='same'))\n",
    "model.add(Dropout(0.3))\n",
    "\n",
    "model.add(Convolution2D(filters=64,\n",
    "                      kernel_size=5,\n",
    "                      activation='relu'))\n",
    "model.add(MaxPooling2D(pool_size=(2,2),\n",
    "                        strides=2,\n",
    "                        padding='same'))\n",
    "model.add(Dropout(0.3))\n",
    "\n",
    "model.add(Flatten())\n",
    "model.add(Dense(128, activation='relu'))\n",
    "model.add(Dropout(0.4))\n",
    "model.add(Dense(60, activation='relu'))\n",
    "model.add(Dense(25, activation='softmax'))\n",
    "\n",
    "model.compile(loss='categorical_crossentropy', optimizer='adam', metrics=['accuracy'])\n",
    "                               \n",
    "model.fit(X_train, y_train, epochs=20, batch_size=1000, verbose=0, validation_data=(X_test, y_test))\n",
    "\n",
    "score = model.evaluate(testset_X, testset_y, verbose=0)\n",
    "\n",
    "print('test loss: ', score[0])\n",
    "print('test accuracy: ', score[1])"
   ]
  },
  {
   "cell_type": "code",
   "execution_count": 15,
   "metadata": {},
   "outputs": [
    {
     "name": "stdout",
     "output_type": "stream",
     "text": [
      "test loss:  0.4324156413580942\n",
      "test accuracy:  0.8667038482989403\n"
     ]
    }
   ],
   "source": [
    "# added Conv2D=16 and MaxPool and Dropout\n",
    "# 2nd and 3rd MaxPool pool_size changed from 2 to 5\n",
    "model = Sequential()\n",
    "\n",
    "model.add(Convolution2D(filters=16,\n",
    "                       kernel_size=2,\n",
    "                       activation='relu',\n",
    "                       input_shape = (28,28,1)))\n",
    "model.add(MaxPooling2D(pool_size=(2,2),\n",
    "                         strides=2,\n",
    "                        padding='same'))\n",
    "model.add(Dropout(0.3))\n",
    "\n",
    "\n",
    "model.add(Convolution2D(filters =32,\n",
    "                       kernel_size=5,\n",
    "                       activation='relu'))\n",
    "model.add(MaxPooling2D(pool_size=(5,5),\n",
    "                         strides=2,\n",
    "                        padding='same'))\n",
    "model.add(Dropout(0.3))\n",
    "\n",
    "model.add(Convolution2D(filters=64,\n",
    "                      kernel_size=5,\n",
    "                      activation='relu'))\n",
    "model.add(MaxPooling2D(pool_size=(5,5),\n",
    "                        strides=2,\n",
    "                        padding='same'))\n",
    "model.add(Dropout(0.3))\n",
    "\n",
    "model.add(Flatten())\n",
    "model.add(Dense(128, activation='relu'))\n",
    "model.add(Dropout(0.4))\n",
    "model.add(Dense(60, activation='relu'))\n",
    "model.add(Dense(25, activation='softmax'))\n",
    "\n",
    "model.compile(loss='categorical_crossentropy', optimizer='adam', metrics=['accuracy'])\n",
    "                               \n",
    "model.fit(X_train, y_train, epochs=20, batch_size=1000, verbose=0, validation_data=(X_test, y_test))\n",
    "\n",
    "score = model.evaluate(testset_X, testset_y, verbose=0)\n",
    "\n",
    "print('test loss: ', score[0])\n",
    "print('test accuracy: ', score[1])"
   ]
  },
  {
   "cell_type": "code",
   "execution_count": 18,
   "metadata": {},
   "outputs": [
    {
     "name": "stdout",
     "output_type": "stream",
     "text": [
      "test loss:  0.3021635857295937\n",
      "test accuracy:  0.9216397099832683\n"
     ]
    }
   ],
   "source": [
    "# added Conv2D=16 and MaxPool and Dropout; kernel changed from 2 to 3\n",
    "# 2nd and 3rd MaxPool pool_size changed from 2 to 5\n",
    "model = Sequential()\n",
    "\n",
    "model.add(Convolution2D(filters=16,\n",
    "                       kernel_size=3,\n",
    "                       activation='relu',\n",
    "                       input_shape = (28,28,1)))\n",
    "model.add(MaxPooling2D(pool_size=(2,2),\n",
    "                         strides=2,\n",
    "                        padding='same'))\n",
    "model.add(Dropout(0.3))\n",
    "\n",
    "\n",
    "model.add(Convolution2D(filters =32,\n",
    "                       kernel_size=5,\n",
    "                       activation='relu'))\n",
    "model.add(MaxPooling2D(pool_size=(5,5),\n",
    "                         strides=2,\n",
    "                        padding='same'))\n",
    "model.add(Dropout(0.3))\n",
    "\n",
    "model.add(Convolution2D(filters=64,\n",
    "                      kernel_size=5,\n",
    "                      activation='relu'))\n",
    "model.add(MaxPooling2D(pool_size=(5,5),\n",
    "                        strides=2,\n",
    "                        padding='same'))\n",
    "model.add(Dropout(0.3))\n",
    "\n",
    "model.add(Flatten())\n",
    "model.add(Dense(128, activation='relu'))\n",
    "model.add(Dropout(0.4))\n",
    "model.add(Dense(60, activation='relu'))\n",
    "model.add(Dense(25, activation='softmax'))\n",
    "\n",
    "model.compile(loss='categorical_crossentropy', optimizer='adam', metrics=['accuracy'])\n",
    "                               \n",
    "model.fit(X_train, y_train, epochs=20, batch_size=1000, verbose=0, validation_data=(X_test, y_test))\n",
    "\n",
    "score = model.evaluate(testset_X, testset_y, verbose=0)\n",
    "\n",
    "print('test loss: ', score[0])\n",
    "print('test accuracy: ', score[1])"
   ]
  },
  {
   "cell_type": "code",
   "execution_count": 19,
   "metadata": {},
   "outputs": [
    {
     "name": "stdout",
     "output_type": "stream",
     "text": [
      "test loss:  0.9827041394605494\n",
      "test accuracy:  0.666201896263246\n"
     ]
    }
   ],
   "source": [
    "# added Conv2D=16 and MaxPool and Dropout; kernel changed from 2 to 1\n",
    "# 2nd and 3rd MaxPool pool_size changed from 2 to 5\n",
    "model = Sequential()\n",
    "\n",
    "model.add(Convolution2D(filters=16,\n",
    "                       kernel_size=1,\n",
    "                       activation='relu',\n",
    "                       input_shape = (28,28,1)))\n",
    "model.add(MaxPooling2D(pool_size=(2,2),\n",
    "                         strides=2,\n",
    "                        padding='same'))\n",
    "model.add(Dropout(0.3))\n",
    "\n",
    "\n",
    "model.add(Convolution2D(filters =32,\n",
    "                       kernel_size=5,\n",
    "                       activation='relu'))\n",
    "model.add(MaxPooling2D(pool_size=(5,5),\n",
    "                         strides=2,\n",
    "                        padding='same'))\n",
    "model.add(Dropout(0.3))\n",
    "\n",
    "model.add(Convolution2D(filters=64,\n",
    "                      kernel_size=5,\n",
    "                      activation='relu'))\n",
    "model.add(MaxPooling2D(pool_size=(5,5),\n",
    "                        strides=2,\n",
    "                        padding='same'))\n",
    "model.add(Dropout(0.3))\n",
    "\n",
    "model.add(Flatten())\n",
    "model.add(Dense(128, activation='relu'))\n",
    "model.add(Dropout(0.4))\n",
    "model.add(Dense(60, activation='relu'))\n",
    "model.add(Dense(25, activation='softmax'))\n",
    "\n",
    "model.compile(loss='categorical_crossentropy', optimizer='adam', metrics=['accuracy'])\n",
    "                               \n",
    "model.fit(X_train, y_train, epochs=20, batch_size=1000, verbose=0, validation_data=(X_test, y_test))\n",
    "\n",
    "score = model.evaluate(testset_X, testset_y, verbose=0)\n",
    "\n",
    "print('test loss: ', score[0])\n",
    "print('test accuracy: ', score[1])"
   ]
  },
  {
   "cell_type": "code",
   "execution_count": null,
   "metadata": {},
   "outputs": [],
   "source": []
  }
 ],
 "metadata": {
  "kernelspec": {
   "display_name": "Python [default]",
   "language": "python",
   "name": "python3"
  },
  "language_info": {
   "codemirror_mode": {
    "name": "ipython",
    "version": 3
   },
   "file_extension": ".py",
   "mimetype": "text/x-python",
   "name": "python",
   "nbconvert_exporter": "python",
   "pygments_lexer": "ipython3",
   "version": "3.6.4"
  }
 },
 "nbformat": 4,
 "nbformat_minor": 2
}
