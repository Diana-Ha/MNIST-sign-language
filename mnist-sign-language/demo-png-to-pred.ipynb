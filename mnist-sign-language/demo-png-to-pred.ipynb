{
 "cells": [
  {
   "cell_type": "code",
   "execution_count": null,
   "metadata": {},
   "outputs": [],
   "source": [
    "# #add the following as the first line of every py script (include the '#')\n",
    "# #this will make it so that I dont have to type 'python' before running the script\n",
    "\n",
    "#!/Users/dianaha/anaconda3/bin/python"
   ]
  },
  {
   "cell_type": "code",
   "execution_count": null,
   "metadata": {},
   "outputs": [],
   "source": [
    "import numpy as np\n",
    "import pandas as pd\n",
    "import math\n",
    "from sklearn.model_selection import train_test_split\n",
    "\n",
    "from keras.models import load_model\n",
    "from keras import backend as K\n",
    "from keras import optimizers\n",
    "from keras import losses\n",
    "from keras.models import Sequential\n",
    "from keras.layers import Dense, Activation, Flatten\n",
    "from keras.utils import to_categorical\n",
    "from keras.layers import Dropout\n",
    "from keras.layers import Convolution2D, MaxPooling2D\n",
    "\n",
    "import tensorflow as tf\n",
    "\n",
    "import os\n",
    "from PIL import Image\n",
    "import cv2\n",
    "import h5py\n",
    "import glob"
   ]
  },
  {
   "cell_type": "code",
   "execution_count": null,
   "metadata": {},
   "outputs": [],
   "source": [
    "# get file paths for each png image in the folder\n",
    "waffs_imgs = sorted(glob.glob(\"./WAFFLES/*.png\", recursive=True))"
   ]
  },
  {
   "cell_type": "code",
   "execution_count": null,
   "metadata": {},
   "outputs": [],
   "source": [
    "# create empty df and list for labels\n",
    "waffs_df = pd.DataFrame()"
   ]
  },
  {
   "cell_type": "code",
   "execution_count": null,
   "metadata": {},
   "outputs": [],
   "source": [
    "# add images as arrays to waffs_df\n",
    "start = 0\n",
    "\n",
    "for i in waffs_imgs:  \n",
    "    img = cv2.imread(i, 0)\n",
    "    re = cv2.resize(img, (28, 28))\n",
    "    arr = np.asarray(re).ravel()\n",
    "    waffs_df = waffs_df.append([arr], ignore_index=True)"
   ]
  },
  {
   "cell_type": "code",
   "execution_count": null,
   "metadata": {},
   "outputs": [],
   "source": [
    "# format the data in order to load into the model\n",
    "waffs_df = waffs_df.values.reshape(waffs_df.shape[0], 28, 28, 1)\n",
    "waffs_df = waffs_df.astype('float32')\n",
    "waffs_df /= 255"
   ]
  },
  {
   "cell_type": "code",
   "execution_count": null,
   "metadata": {},
   "outputs": [],
   "source": [
    "# load keras model\n",
    "model1 = load_model(\"model1.h5\")"
   ]
  },
  {
   "cell_type": "code",
   "execution_count": null,
   "metadata": {},
   "outputs": [],
   "source": [
    "# make predictions; ouput is a number\n",
    "waffs_preds = model1.predict_classes(waffs_df)"
   ]
  },
  {
   "cell_type": "code",
   "execution_count": null,
   "metadata": {},
   "outputs": [],
   "source": [
    "# dictionary used to convert numerical values to English alphabet\n",
    "letter_dict = {0:\"A\", 1:\"B\", 2:\"C\", 3:\"D\", 4:\"E\", 5:\"F\", \n",
    "               6:\"G\", 7:\"H\", 8:\"I\", 10:\"K\", 11:\"L\", 12:\"M\", \n",
    "               13:\"N\", 14:\"O\", 15:\"P\", 16:\"Q\", 17:\"R\", 18:\"S\",\n",
    "               19:\"T\", 20:\"U\", 21:\"V\", 22:\"W\", 23:\"X\", 24:\"Y\"}"
   ]
  },
  {
   "cell_type": "code",
   "execution_count": null,
   "metadata": {},
   "outputs": [],
   "source": [
    "# change output from numbers to a single string of alphabets\n",
    "translation = \"\".join(list(map(lambda key: letter_dict[key], waffs_preds)))\n",
    "print(translation)"
   ]
  },
  {
   "cell_type": "code",
   "execution_count": null,
   "metadata": {},
   "outputs": [],
   "source": [
    "# # create function to change output from numbers to a single string of alphabets\n",
    "# def translate_num2let(waffs_preds):\n",
    "#     translation = \"\".join(list(map(lambda key: letter_dict[key], waffs_preds)))\n",
    "#     return translation"
   ]
  },
  {
   "cell_type": "code",
   "execution_count": null,
   "metadata": {},
   "outputs": [],
   "source": [
    "# translate_num2let(waffs_preds)"
   ]
  },
  {
   "cell_type": "code",
   "execution_count": null,
   "metadata": {},
   "outputs": [],
   "source": []
  }
 ],
 "metadata": {
  "kernelspec": {
   "display_name": "Python [default]",
   "language": "python",
   "name": "python3"
  },
  "language_info": {
   "codemirror_mode": {
    "name": "ipython",
    "version": 3
   },
   "file_extension": ".py",
   "mimetype": "text/x-python",
   "name": "python",
   "nbconvert_exporter": "python",
   "pygments_lexer": "ipython3",
   "version": "3.6.4"
  }
 },
 "nbformat": 4,
 "nbformat_minor": 2
}
